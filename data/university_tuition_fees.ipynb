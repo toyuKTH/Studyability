{
 "cells": [
  {
   "cell_type": "code",
   "execution_count": 1,
   "metadata": {
    "collapsed": false,
    "jupyter": {
     "outputs_hidden": false
    },
    "pycharm": {
     "is_executing": true,
     "name": "#%%\n"
    }
   },
   "outputs": [],
   "source": [
    "import pandas as pd\n",
    "import numpy as np"
   ]
  },
  {
   "cell_type": "code",
   "execution_count": 18,
   "metadata": {
    "pycharm": {
     "name": "#%%\n"
    }
   },
   "outputs": [],
   "source": [
    "import os\n",
    "\n",
    "cwd = os.getcwd()\n",
    "tuition_fees_path = os.path.join(cwd, \"raw/tuition_fee_university_qs_2025.csv\")"
   ]
  },
  {
   "cell_type": "code",
   "execution_count": 20,
   "metadata": {
    "collapsed": false,
    "jupyter": {
     "outputs_hidden": false
    },
    "pycharm": {
     "name": "#%%\n"
    }
   },
   "outputs": [
    {
     "name": "stdout",
     "output_type": "stream",
     "text": [
      "  2025_rank                                   university  \\\n",
      "0         1  Massachusetts Institute of Technology (MIT)   \n",
      "1         2                      Imperial College London   \n",
      "2         3                         University of Oxford   \n",
      "3         4                           Harvard University   \n",
      "4         5                      University of Cambridge   \n",
      "\n",
      "   tuition_fee_yearly_usd                  method  \n",
      "0                   53790                official  \n",
      "1                   44083  scrape-topuniversities  \n",
      "2                   40000               estimated  \n",
      "3                   50000               estimated  \n",
      "4                   40000               estimated  \n"
     ]
    },
    {
     "data": {
      "text/plain": [
       "1503"
      ]
     },
     "execution_count": 20,
     "metadata": {},
     "output_type": "execute_result"
    }
   ],
   "source": [
    "tuition = pd.read_csv(tuition_fees_path)\n",
    "print(tuition.head())\n",
    "len(tuition)\n"
   ]
  },
  {
   "cell_type": "code",
   "execution_count": null,
   "outputs": [],
   "source": [
    "tuition.head()"
   ],
   "metadata": {
    "collapsed": false,
    "pycharm": {
     "name": "#%%\n"
    }
   }
  },
  {
   "cell_type": "code",
   "execution_count": null,
   "outputs": [],
   "source": [
    "tuition.to_csv(os.path.join(cwd,\"university_tuition_fees.csv\"),index=False, header=\n",
    "                        ['2025_rank',\n",
    "                         'university',\n",
    "                         'tuition_fee_yearly_usd',\n",
    "                         'method',\n",
    "                        ])"
   ],
   "metadata": {
    "collapsed": false,
    "pycharm": {
     "name": "#%%\n"
    }
   }
  }
 ],
 "metadata": {
  "kernelspec": {
   "display_name": "Python 3 (ipykernel)",
   "language": "python",
   "name": "python3"
  },
  "language_info": {
   "codemirror_mode": {
    "name": "ipython",
    "version": 3
   },
   "file_extension": ".py",
   "mimetype": "text/x-python",
   "name": "python",
   "nbconvert_exporter": "python",
   "pygments_lexer": "ipython3",
   "version": "3.9.6"
  }
 },
 "nbformat": 4,
 "nbformat_minor": 4
}