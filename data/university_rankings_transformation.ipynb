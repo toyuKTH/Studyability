{
 "cells": [
  {
   "cell_type": "code",
   "execution_count": 1,
   "metadata": {
    "collapsed": false,
    "jupyter": {
     "outputs_hidden": false
    },
    "pycharm": {
     "is_executing": true,
     "name": "#%%\n"
    }
   },
   "outputs": [],
   "source": [
    "import pandas as pd\n",
    "import numpy as np"
   ]
  },
  {
   "cell_type": "code",
   "execution_count": 5,
   "metadata": {},
   "outputs": [],
   "source": [
    "import os\n",
    "\n",
    "cwd = os.getcwd()\n",
    "rankings_path = os.path.join(cwd, \"raw/qs-world-rankings-2025.csv\")"
   ]
  },
  {
   "cell_type": "code",
   "execution_count": 6,
   "metadata": {
    "collapsed": false,
    "jupyter": {
     "outputs_hidden": false
    },
    "pycharm": {
     "name": "#%%\n"
    }
   },
   "outputs": [
    {
     "name": "stdout",
     "output_type": "stream",
     "text": [
      "  2025 Rank 2024 Rank                              Institution Name Location  \\\n",
      "0         1         1  Massachusetts Institute of Technology (MIT)        US   \n",
      "1         2         6                       Imperial College London       UK   \n",
      "2         3         3                          University of Oxford       UK   \n",
      "3         4         4                            Harvard University       US   \n",
      "4         5         2                       University of Cambridge       UK   \n",
      "\n",
      "    Location Full Size  Academic Reputation  Employer Reputation  \\\n",
      "0   United States    M                100.0                100.0   \n",
      "1  United Kingdom    L                 98.5                 99.5   \n",
      "2  United Kingdom    L                100.0                100.0   \n",
      "3   United States    L                100.0                100.0   \n",
      "4  United Kingdom    L                100.0                100.0   \n",
      "\n",
      "   Faculty Student  Citations per Faculty  International Faculty  \\\n",
      "0            100.0                  100.0                   99.3   \n",
      "1             98.2                   93.9                  100.0   \n",
      "2            100.0                   84.8                   98.1   \n",
      "3             96.3                  100.0                   74.1   \n",
      "4            100.0                   84.6                  100.0   \n",
      "\n",
      "   International Students  International Research Network  \\\n",
      "0                    86.8                            96.0   \n",
      "1                    99.6                            97.4   \n",
      "2                    97.7                           100.0   \n",
      "3                    69.0                            99.6   \n",
      "4                    94.8                            99.3   \n",
      "\n",
      "   Employment Outcomes  Sustainability QS Overall Score  \n",
      "0                100.0            99.0              100  \n",
      "1                 93.4            99.7             98.5  \n",
      "2                100.0            85.0             96.9  \n",
      "3                100.0            84.4             96.8  \n",
      "4                100.0            84.8             96.7  \n"
     ]
    },
    {
     "data": {
      "text/plain": [
       "1503"
      ]
     },
     "execution_count": 6,
     "metadata": {},
     "output_type": "execute_result"
    }
   ],
   "source": [
    "rankings = pd.read_csv(rankings_path)\n",
    "print(rankings.head())\n",
    "len(rankings)\n"
   ]
  },
  {
   "cell_type": "code",
   "execution_count": 9,
   "metadata": {},
   "outputs": [],
   "source": [
    "rankings_cleaned = rankings[['2025 Rank',\n",
    "                             '2024 Rank',\n",
    "                             'Institution Name',\n",
    "                             'Location',\n",
    "                             'Academic Reputation',\n",
    "                             'Employer Reputation',\n",
    "                             'International Students',\n",
    "                             'Employment Outcomes',\n",
    "                             'Sustainability',\n",
    "                             'QS Overall Score'\n",
    "                            ]]\n"
   ]
  },
  {
   "cell_type": "code",
   "execution_count": 10,
   "metadata": {},
   "outputs": [
    {
     "data": {
      "text/html": [
       "<div>\n",
       "<style scoped>\n",
       "    .dataframe tbody tr th:only-of-type {\n",
       "        vertical-align: middle;\n",
       "    }\n",
       "\n",
       "    .dataframe tbody tr th {\n",
       "        vertical-align: top;\n",
       "    }\n",
       "\n",
       "    .dataframe thead th {\n",
       "        text-align: right;\n",
       "    }\n",
       "</style>\n",
       "<table border=\"1\" class=\"dataframe\">\n",
       "  <thead>\n",
       "    <tr style=\"text-align: right;\">\n",
       "      <th></th>\n",
       "      <th>2025 Rank</th>\n",
       "      <th>2024 Rank</th>\n",
       "      <th>Institution Name</th>\n",
       "      <th>Location</th>\n",
       "      <th>Academic Reputation</th>\n",
       "      <th>Employer Reputation</th>\n",
       "      <th>International Students</th>\n",
       "      <th>Employment Outcomes</th>\n",
       "      <th>Sustainability</th>\n",
       "      <th>QS Overall Score</th>\n",
       "    </tr>\n",
       "  </thead>\n",
       "  <tbody>\n",
       "    <tr>\n",
       "      <th>0</th>\n",
       "      <td>1</td>\n",
       "      <td>1</td>\n",
       "      <td>Massachusetts Institute of Technology (MIT)</td>\n",
       "      <td>US</td>\n",
       "      <td>100.0</td>\n",
       "      <td>100.0</td>\n",
       "      <td>86.8</td>\n",
       "      <td>100.0</td>\n",
       "      <td>99.0</td>\n",
       "      <td>100</td>\n",
       "    </tr>\n",
       "    <tr>\n",
       "      <th>1</th>\n",
       "      <td>2</td>\n",
       "      <td>6</td>\n",
       "      <td>Imperial College London</td>\n",
       "      <td>UK</td>\n",
       "      <td>98.5</td>\n",
       "      <td>99.5</td>\n",
       "      <td>99.6</td>\n",
       "      <td>93.4</td>\n",
       "      <td>99.7</td>\n",
       "      <td>98.5</td>\n",
       "    </tr>\n",
       "    <tr>\n",
       "      <th>2</th>\n",
       "      <td>3</td>\n",
       "      <td>3</td>\n",
       "      <td>University of Oxford</td>\n",
       "      <td>UK</td>\n",
       "      <td>100.0</td>\n",
       "      <td>100.0</td>\n",
       "      <td>97.7</td>\n",
       "      <td>100.0</td>\n",
       "      <td>85.0</td>\n",
       "      <td>96.9</td>\n",
       "    </tr>\n",
       "    <tr>\n",
       "      <th>3</th>\n",
       "      <td>4</td>\n",
       "      <td>4</td>\n",
       "      <td>Harvard University</td>\n",
       "      <td>US</td>\n",
       "      <td>100.0</td>\n",
       "      <td>100.0</td>\n",
       "      <td>69.0</td>\n",
       "      <td>100.0</td>\n",
       "      <td>84.4</td>\n",
       "      <td>96.8</td>\n",
       "    </tr>\n",
       "    <tr>\n",
       "      <th>4</th>\n",
       "      <td>5</td>\n",
       "      <td>2</td>\n",
       "      <td>University of Cambridge</td>\n",
       "      <td>UK</td>\n",
       "      <td>100.0</td>\n",
       "      <td>100.0</td>\n",
       "      <td>94.8</td>\n",
       "      <td>100.0</td>\n",
       "      <td>84.8</td>\n",
       "      <td>96.7</td>\n",
       "    </tr>\n",
       "  </tbody>\n",
       "</table>\n",
       "</div>"
      ],
      "text/plain": [
       "  2025 Rank 2024 Rank                              Institution Name Location  \\\n",
       "0         1         1  Massachusetts Institute of Technology (MIT)        US   \n",
       "1         2         6                       Imperial College London       UK   \n",
       "2         3         3                          University of Oxford       UK   \n",
       "3         4         4                            Harvard University       US   \n",
       "4         5         2                       University of Cambridge       UK   \n",
       "\n",
       "   Academic Reputation  Employer Reputation  International Students  \\\n",
       "0                100.0                100.0                    86.8   \n",
       "1                 98.5                 99.5                    99.6   \n",
       "2                100.0                100.0                    97.7   \n",
       "3                100.0                100.0                    69.0   \n",
       "4                100.0                100.0                    94.8   \n",
       "\n",
       "   Employment Outcomes  Sustainability QS Overall Score  \n",
       "0                100.0            99.0              100  \n",
       "1                 93.4            99.7             98.5  \n",
       "2                100.0            85.0             96.9  \n",
       "3                100.0            84.4             96.8  \n",
       "4                100.0            84.8             96.7  "
      ]
     },
     "execution_count": 10,
     "metadata": {},
     "output_type": "execute_result"
    }
   ],
   "source": []
  },
  {
   "cell_type": "code",
   "execution_count": null,
   "metadata": {},
   "outputs": [],
   "source": [
    "rankings_cleaned.head()"
   ]
  },
  {
   "cell_type": "code",
   "execution_count": 11,
   "metadata": {},
   "outputs": [],
   "source": [
    "rankings_cleaned.to_csv(os.path.join(cwd,\"university_rankings.csv\"),index=False, header=\n",
    "                        ['2025_rank',\n",
    "                         '2024_rank',\n",
    "                         'university',\n",
    "                         'alpha_2',\n",
    "                         'academic_reputation',\n",
    "                         'employer_reputation',\n",
    "                         'international_students',\n",
    "                         'employment_outcomes',\n",
    "                         'sustainability',\n",
    "                         'qs_overall_score',\n",
    "                        ])"
   ]
  }
 ],
 "metadata": {
  "kernelspec": {
   "display_name": "Python 3 (ipykernel)",
   "language": "python",
   "name": "python3"
  },
  "language_info": {
   "codemirror_mode": {
    "name": "ipython",
    "version": 3
   },
   "file_extension": ".py",
   "mimetype": "text/x-python",
   "name": "python",
   "nbconvert_exporter": "python",
   "pygments_lexer": "ipython3",
   "version": "3.9.6"
  }
 },
 "nbformat": 4,
 "nbformat_minor": 4
}
