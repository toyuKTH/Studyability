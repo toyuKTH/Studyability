{
 "cells": [
  {
   "cell_type": "code",
   "execution_count": 85,
   "metadata": {
    "collapsed": false,
    "jupyter": {
     "outputs_hidden": false
    },
    "pycharm": {
     "is_executing": true,
     "name": "#%%\n"
    }
   },
   "outputs": [],
   "source": [
    "import pandas as pd\n",
    "import numpy as np"
   ]
  },
  {
   "cell_type": "code",
   "execution_count": 86,
   "metadata": {},
   "outputs": [],
   "source": [
    "import os\n",
    "\n",
    "cwd = os.getcwd()\n",
    "ef_path = os.path.join(cwd, \"raw/ef_education_index.csv\")\n",
    "country_codes_path = os.path.join(cwd,\"raw/ISO-3166-Countries-with-Regional-Code.csv\")"
   ]
  },
  {
   "cell_type": "code",
   "execution_count": 87,
   "metadata": {
    "collapsed": false,
    "jupyter": {
     "outputs_hidden": false
    },
    "pycharm": {
     "name": "#%%\n"
    }
   },
   "outputs": [
    {
     "name": "stdout",
     "output_type": "stream",
     "text": [
      "   Rank      Country  EF EPI Score                  Level  Year\n",
      "0     1       Norway         69.09  Very High Proficiency  2011\n",
      "1     2  Netherlands         67.93  Very High Proficiency  2011\n",
      "2     3      Denmark         66.91  Very High Proficiency  2011\n",
      "3     4       Sweden         66.26  Very High Proficiency  2011\n",
      "4     5      Finland         65.38  Very High Proficiency  2011\n"
     ]
    },
    {
     "data": {
      "text/plain": [
       "1167"
      ]
     },
     "execution_count": 87,
     "metadata": {},
     "output_type": "execute_result"
    }
   ],
   "source": [
    "ef = pd.read_csv(ef_path)\n",
    "print(col.head())\n",
    "len(col)\n"
   ]
  },
  {
   "cell_type": "code",
   "execution_count": 88,
   "metadata": {},
   "outputs": [],
   "source": [
    "#col['Country'] = col['Country'].str.replace(r'\\s*\\(.*?\\)', '', regex=True)\n",
    "#col['Country'] = col['Country'].str.replace(r'\\bAnd\\b', 'and', regex=True)\n",
    "#col['Country'] = col['Country'].str.replace(r'\\bOf\\b', 'of', regex=True)"
   ]
  },
  {
   "cell_type": "code",
   "execution_count": 81,
   "metadata": {
    "collapsed": false,
    "jupyter": {
     "outputs_hidden": false
    },
    "pycharm": {
     "name": "#%%\n"
    }
   },
   "outputs": [
    {
     "name": "stdout",
     "output_type": "stream",
     "text": [
      "             name alpha-2 alpha-3  country-code     iso_3166-2   region  \\\n",
      "0     Afghanistan      AF     AFG             4  ISO 3166-2:AF     Asia   \n",
      "1   Åland Islands      AX     ALA           248  ISO 3166-2:AX   Europe   \n",
      "2         Albania      AL     ALB             8  ISO 3166-2:AL   Europe   \n",
      "3         Algeria      DZ     DZA            12  ISO 3166-2:DZ   Africa   \n",
      "4  American Samoa      AS     ASM            16  ISO 3166-2:AS  Oceania   \n",
      "\n",
      "        sub-region intermediate-region  region-code  sub-region-code  \\\n",
      "0    Southern Asia                 NaN        142.0             34.0   \n",
      "1  Northern Europe                 NaN        150.0            154.0   \n",
      "2  Southern Europe                 NaN        150.0             39.0   \n",
      "3  Northern Africa                 NaN          2.0             15.0   \n",
      "4        Polynesia                 NaN          9.0             61.0   \n",
      "\n",
      "   intermediate-region-code  \n",
      "0                       NaN  \n",
      "1                       NaN  \n",
      "2                       NaN  \n",
      "3                       NaN  \n",
      "4                       NaN  \n"
     ]
    },
    {
     "data": {
      "text/plain": [
       "249"
      ]
     },
     "execution_count": 81,
     "metadata": {},
     "output_type": "execute_result"
    }
   ],
   "source": [
    "country_codes = pd.read_csv(country_codes_path)\n",
    "print(country_codes.head())\n",
    "len(country_codes)\n",
    "\n"
   ]
  },
  {
   "cell_type": "code",
   "execution_count": 89,
   "metadata": {
    "pycharm": {
     "name": "#%%\n"
    }
   },
   "outputs": [],
   "source": [
    "# rename some country names:\n",
    "country_codes.replace(to_replace=\"Türkiye\", value=\"Turkey\",inplace=True)\n",
    "country_codes.replace(to_replace=\"United Kingdom of Great Britain and Northern Ireland\", value=\"United Kingdom\",inplace=True)\n",
    "country_codes.replace(to_replace=\"United States of America\", value=\"United States\",inplace=True)\n",
    "country_codes.replace(to_replace=\"Russian Federation\", value=\"Russia\",inplace=True)\n",
    "country_codes.replace(to_replace=\"Netherlands, Kingdom of the\", value=\"Netherlands\",inplace=True)\n",
    "country_codes.replace(to_replace=\"Czechia\", value=\"Czech Republic\",inplace=True)\n",
    "country_codes.replace(to_replace=\"Iran, Islamic Republic of\", value=\"Iran\",inplace=True)\n",
    "country_codes.replace(to_replace=\"Korea, Democratic People's Republic of\", value=\"North Korea\",inplace=True)\n",
    "country_codes.replace(to_replace=\"Korea, Republic of\", value=\"South Korea\",inplace=True)\n",
    "country_codes.replace(to_replace=\"Viet Nam\", value=\"Vietnam\",inplace=True)\n",
    "country_codes.replace(to_replace=\"Taiwan, Province of China\", value=\"Taiwan\",inplace=True)\n",
    "country_codes.replace(to_replace=\"Tanzania, United Republic of\", value=\"Tanzania\",inplace=True)\n",
    "country_codes.replace(to_replace=\"Côte d'Ivoire\", value=\"Ivory Coast\",inplace=True)\n",
    "country_codes.replace(to_replace=\"Syrian Arab Republic\", value=\"Syria\",inplace=True)\n",
    "country_codes.replace(to_replace=\"Congo, Democratic Republic of the\", value=\"Democratic Republic of the Congo\",inplace=True)\n",
    "country_codes.replace(to_replace=\"Lao People's Democratic Republic\", value=\"Laos\",inplace=True)\n",
    "country_codes.replace(to_replace=\"Bolivia, Plurinational State of\", value=\"Bolivia\",inplace=True)\n",
    "country_codes.replace(to_replace=\"Falkland Islands (Malvinas)\", value=\"Falkland Islands\",inplace=True)\n",
    "country_codes.replace(to_replace=\"Venezuela, Bolivarian Republic of\", value=\"Venezuela\",inplace=True)\n",
    "country_codes.replace(to_replace=\"Moldova, Republic of\", value=\"Moldova\",inplace=True)\n",
    "country_codes.replace(to_replace=\"Brunei Darussalam\", value=\"Brunei\",inplace=True)\n",
    "country_codes.replace(to_replace=\"Palestine, State of\", value=\"Palestine\",inplace=True)\n",
    "country_codes.replace(to_replace=\"Virgin Islands (U.S.)\", value=\"Us Virgin Islands\",inplace=True)\n",
    "\n",
    "ef.replace(\"Hong Kong SAR\", value=\"Hong Kong\", inplace=True)\n",
    "ef.replace(\"Hong Kong (China)\", value=\"Hong Kong\", inplace=True)\n",
    "ef.replace(\"Hong Kong, China\", value=\"Hong Kong\", inplace=True)\n",
    "ef.replace(\"Hong Kong,China\", value=\"Hong Kong\", inplace=True)\n",
    "\n",
    "ef.replace(\"Taiwan, China\", value=\"Taiwan\", inplace=True)\n",
    "ef.replace(\"Macau SAR\", value=\"Macao\", inplace=True)\n",
    "ef.replace(\"Macau\", value=\"Macao\", inplace=True)\n",
    "ef.replace(\"Macau, China\", value=\"Macao\", inplace=True)\n",
    "ef.replace(\"Macau,China\", value=\"Macao\", inplace=True)\n",
    "\n",
    "ef.replace(\"C么te d'Ivoire\", value=\"Ivory Coast\", inplace=True)\n",
    "ef.replace(\"Côte d'Ivoire\", value=\"Ivory Coast\", inplace=True)\n",
    "\n",
    "ef.replace(to_replace=\"Czechia\", value=\"Czech Republic\",inplace=True)\n",
    "ef.replace(\"Bosnia & Herzegovina\", value=\"Bosnia and Herzegovina\", inplace=True)\n",
    "ef.replace(\"U.A.E.\", value=\"United Arab Emirates\", inplace=True)\n",
    "ef.replace(to_replace=\"Cape Verde\", value=\"Cabo Verde\", inplace=True)\n",
    "# 2023 data needs to be recleaned\n"
   ]
  },
  {
   "cell_type": "code",
   "execution_count": 90,
   "metadata": {
    "pycharm": {
     "name": "#%%\n"
    }
   },
   "outputs": [],
   "source": [
    "col_with_country_codes = ef.merge(country_codes, left_on='Country', right_on='name', how='left')\n"
   ]
  },
  {
   "cell_type": "code",
   "execution_count": 91,
   "metadata": {
    "pycharm": {
     "name": "#%%\n"
    }
   },
   "outputs": [
    {
     "data": {
      "text/html": [
       "<div>\n",
       "<style scoped>\n",
       "    .dataframe tbody tr th:only-of-type {\n",
       "        vertical-align: middle;\n",
       "    }\n",
       "\n",
       "    .dataframe tbody tr th {\n",
       "        vertical-align: top;\n",
       "    }\n",
       "\n",
       "    .dataframe thead th {\n",
       "        text-align: right;\n",
       "    }\n",
       "</style>\n",
       "<table border=\"1\" class=\"dataframe\">\n",
       "  <thead>\n",
       "    <tr style=\"text-align: right;\">\n",
       "      <th></th>\n",
       "      <th>Rank</th>\n",
       "      <th>Country</th>\n",
       "      <th>EF EPI Score</th>\n",
       "      <th>Level</th>\n",
       "      <th>Year</th>\n",
       "      <th>name</th>\n",
       "      <th>alpha-2</th>\n",
       "      <th>alpha-3</th>\n",
       "      <th>country-code</th>\n",
       "      <th>iso_3166-2</th>\n",
       "      <th>region</th>\n",
       "      <th>sub-region</th>\n",
       "      <th>intermediate-region</th>\n",
       "      <th>region-code</th>\n",
       "      <th>sub-region-code</th>\n",
       "      <th>intermediate-region-code</th>\n",
       "    </tr>\n",
       "  </thead>\n",
       "  <tbody>\n",
       "  </tbody>\n",
       "</table>\n",
       "</div>"
      ],
      "text/plain": [
       "Empty DataFrame\n",
       "Columns: [Rank, Country, EF EPI Score, Level, Year, name, alpha-2, alpha-3, country-code, iso_3166-2, region, sub-region, intermediate-region, region-code, sub-region-code, intermediate-region-code]\n",
       "Index: []"
      ]
     },
     "execution_count": 91,
     "metadata": {},
     "output_type": "execute_result"
    }
   ],
   "source": [
    "# there should not be any null values\n",
    "nan_rows = col_with_country_codes[col_with_country_codes['alpha-2'].isnull()]\n",
    "\n",
    "# year 2023 data is incorrect\n",
    "nan_rows"
   ]
  },
  {
   "cell_type": "code",
   "execution_count": 95,
   "metadata": {},
   "outputs": [],
   "source": [
    "ef_with_country_codes = col_with_country_codes[[\n",
    "    'Rank',\n",
    "    'Country',\n",
    "    'EF EPI Score',\n",
    "    'Level',\n",
    "    'Year',\n",
    "    'alpha-2',\n",
    "    'alpha-3',\n",
    "    'region',\n",
    "    'sub-region']]"
   ]
  },
  {
   "cell_type": "code",
   "execution_count": 96,
   "metadata": {},
   "outputs": [
    {
     "data": {
      "text/html": [
       "<div>\n",
       "<style scoped>\n",
       "    .dataframe tbody tr th:only-of-type {\n",
       "        vertical-align: middle;\n",
       "    }\n",
       "\n",
       "    .dataframe tbody tr th {\n",
       "        vertical-align: top;\n",
       "    }\n",
       "\n",
       "    .dataframe thead th {\n",
       "        text-align: right;\n",
       "    }\n",
       "</style>\n",
       "<table border=\"1\" class=\"dataframe\">\n",
       "  <thead>\n",
       "    <tr style=\"text-align: right;\">\n",
       "      <th></th>\n",
       "      <th>Rank</th>\n",
       "      <th>Country</th>\n",
       "      <th>EF EPI Score</th>\n",
       "      <th>Level</th>\n",
       "      <th>Year</th>\n",
       "      <th>alpha-2</th>\n",
       "      <th>alpha-3</th>\n",
       "      <th>region</th>\n",
       "      <th>sub-region</th>\n",
       "    </tr>\n",
       "  </thead>\n",
       "  <tbody>\n",
       "    <tr>\n",
       "      <th>0</th>\n",
       "      <td>1</td>\n",
       "      <td>Norway</td>\n",
       "      <td>69.09</td>\n",
       "      <td>Very High Proficiency</td>\n",
       "      <td>2011</td>\n",
       "      <td>NO</td>\n",
       "      <td>NOR</td>\n",
       "      <td>Europe</td>\n",
       "      <td>Northern Europe</td>\n",
       "    </tr>\n",
       "    <tr>\n",
       "      <th>1</th>\n",
       "      <td>2</td>\n",
       "      <td>Netherlands</td>\n",
       "      <td>67.93</td>\n",
       "      <td>Very High Proficiency</td>\n",
       "      <td>2011</td>\n",
       "      <td>NL</td>\n",
       "      <td>NLD</td>\n",
       "      <td>Europe</td>\n",
       "      <td>Western Europe</td>\n",
       "    </tr>\n",
       "    <tr>\n",
       "      <th>2</th>\n",
       "      <td>3</td>\n",
       "      <td>Denmark</td>\n",
       "      <td>66.91</td>\n",
       "      <td>Very High Proficiency</td>\n",
       "      <td>2011</td>\n",
       "      <td>DK</td>\n",
       "      <td>DNK</td>\n",
       "      <td>Europe</td>\n",
       "      <td>Northern Europe</td>\n",
       "    </tr>\n",
       "    <tr>\n",
       "      <th>3</th>\n",
       "      <td>4</td>\n",
       "      <td>Sweden</td>\n",
       "      <td>66.26</td>\n",
       "      <td>Very High Proficiency</td>\n",
       "      <td>2011</td>\n",
       "      <td>SE</td>\n",
       "      <td>SWE</td>\n",
       "      <td>Europe</td>\n",
       "      <td>Northern Europe</td>\n",
       "    </tr>\n",
       "    <tr>\n",
       "      <th>4</th>\n",
       "      <td>5</td>\n",
       "      <td>Finland</td>\n",
       "      <td>65.38</td>\n",
       "      <td>Very High Proficiency</td>\n",
       "      <td>2011</td>\n",
       "      <td>FI</td>\n",
       "      <td>FIN</td>\n",
       "      <td>Europe</td>\n",
       "      <td>Northern Europe</td>\n",
       "    </tr>\n",
       "  </tbody>\n",
       "</table>\n",
       "</div>"
      ],
      "text/plain": [
       "   Rank      Country  EF EPI Score                  Level  Year alpha-2  \\\n",
       "0     1       Norway         69.09  Very High Proficiency  2011      NO   \n",
       "1     2  Netherlands         67.93  Very High Proficiency  2011      NL   \n",
       "2     3      Denmark         66.91  Very High Proficiency  2011      DK   \n",
       "3     4       Sweden         66.26  Very High Proficiency  2011      SE   \n",
       "4     5      Finland         65.38  Very High Proficiency  2011      FI   \n",
       "\n",
       "  alpha-3  region       sub-region  \n",
       "0     NOR  Europe  Northern Europe  \n",
       "1     NLD  Europe   Western Europe  \n",
       "2     DNK  Europe  Northern Europe  \n",
       "3     SWE  Europe  Northern Europe  \n",
       "4     FIN  Europe  Northern Europe  "
      ]
     },
     "execution_count": 96,
     "metadata": {},
     "output_type": "execute_result"
    }
   ],
   "source": [
    "ef_with_country_codes.head()"
   ]
  },
  {
   "cell_type": "code",
   "execution_count": 98,
   "metadata": {},
   "outputs": [],
   "source": [
    "ef_with_country_codes.to_csv(os.path.join(cwd,\"ef_education_index.csv\"),index=False, header=[\n",
    "    'rank',\n",
    "    'country',\n",
    "    'ef_score',\n",
    "    'level',\n",
    "    'year',\n",
    "    'alpha_2',\n",
    "    'alpha_3',\n",
    "    'region',\n",
    "    'sub_region'])"
   ]
  },
  {
   "cell_type": "code",
   "execution_count": null,
   "metadata": {},
   "outputs": [],
   "source": []
  }
 ],
 "metadata": {
  "kernelspec": {
   "display_name": "Python 3 (ipykernel)",
   "language": "python",
   "name": "python3"
  },
  "language_info": {
   "codemirror_mode": {
    "name": "ipython",
    "version": 3
   },
   "file_extension": ".py",
   "mimetype": "text/x-python",
   "name": "python",
   "nbconvert_exporter": "python",
   "pygments_lexer": "ipython3",
   "version": "3.9.6"
  }
 },
 "nbformat": 4,
 "nbformat_minor": 4
}
