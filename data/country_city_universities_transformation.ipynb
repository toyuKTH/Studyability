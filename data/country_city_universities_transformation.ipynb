{
 "cells": [
  {
   "cell_type": "code",
   "execution_count": 1,
   "metadata": {
    "collapsed": false,
    "jupyter": {
     "outputs_hidden": false
    },
    "pycharm": {
     "is_executing": true,
     "name": "#%%\n"
    }
   },
   "outputs": [],
   "source": [
    "import pandas as pd\n",
    "import numpy as np"
   ]
  },
  {
   "cell_type": "code",
   "execution_count": 2,
   "metadata": {},
   "outputs": [],
   "source": [
    "import os\n",
    "\n",
    "cwd = os.getcwd()\n",
    "universities_path = os.path.join(cwd, \"raw/Country and city of universities.csv\")\n",
    "country_codes_path = os.path.join(cwd,\"raw/ISO-3166-Countries-with-Regional-Code.csv\")"
   ]
  },
  {
   "cell_type": "code",
   "execution_count": 3,
   "metadata": {
    "collapsed": false,
    "jupyter": {
     "outputs_hidden": false
    },
    "pycharm": {
     "name": "#%%\n"
    }
   },
   "outputs": [
    {
     "name": "stdout",
     "output_type": "stream",
     "text": [
      "                                 university       country        city\n",
      "0                University of South Africa  South Africa    Pretoria\n",
      "1                          Cairo University         Egypt       Cairo\n",
      "2  National Autonomous University of Mexico        Mexico      Mexico\n",
      "3                     Alexandria University         Egypt  Alexandria\n",
      "4                      Ain Shams University         Egypt       Cairo\n"
     ]
    },
    {
     "data": {
      "text/plain": [
       "2021"
      ]
     },
     "execution_count": 3,
     "metadata": {},
     "output_type": "execute_result"
    }
   ],
   "source": [
    "universities = pd.read_csv(universities_path)\n",
    "print(universities.head())\n",
    "len(universities)\n"
   ]
  },
  {
   "cell_type": "code",
   "execution_count": 4,
   "metadata": {
    "collapsed": false,
    "jupyter": {
     "outputs_hidden": false
    },
    "pycharm": {
     "name": "#%%\n"
    }
   },
   "outputs": [
    {
     "name": "stdout",
     "output_type": "stream",
     "text": [
      "             name alpha-2 alpha-3  country-code     iso_3166-2   region  \\\n",
      "0     Afghanistan      AF     AFG             4  ISO 3166-2:AF     Asia   \n",
      "1   Åland Islands      AX     ALA           248  ISO 3166-2:AX   Europe   \n",
      "2         Albania      AL     ALB             8  ISO 3166-2:AL   Europe   \n",
      "3         Algeria      DZ     DZA            12  ISO 3166-2:DZ   Africa   \n",
      "4  American Samoa      AS     ASM            16  ISO 3166-2:AS  Oceania   \n",
      "\n",
      "        sub-region intermediate-region  region-code  sub-region-code  \\\n",
      "0    Southern Asia                 NaN        142.0             34.0   \n",
      "1  Northern Europe                 NaN        150.0            154.0   \n",
      "2  Southern Europe                 NaN        150.0             39.0   \n",
      "3  Northern Africa                 NaN          2.0             15.0   \n",
      "4        Polynesia                 NaN          9.0             61.0   \n",
      "\n",
      "   intermediate-region-code  \n",
      "0                       NaN  \n",
      "1                       NaN  \n",
      "2                       NaN  \n",
      "3                       NaN  \n",
      "4                       NaN  \n"
     ]
    },
    {
     "data": {
      "text/plain": [
       "249"
      ]
     },
     "execution_count": 4,
     "metadata": {},
     "output_type": "execute_result"
    }
   ],
   "source": [
    "country_codes = pd.read_csv(country_codes_path)\n",
    "print(country_codes.head())\n",
    "len(country_codes)\n",
    "\n"
   ]
  },
  {
   "cell_type": "code",
   "execution_count": 5,
   "metadata": {
    "pycharm": {
     "name": "#%%\n"
    }
   },
   "outputs": [],
   "source": [
    "# rename some country names:\n",
    "country_codes.replace(to_replace=\"Türkiye\", value=\"Turkey\",inplace=True)\n",
    "country_codes.replace(to_replace=\"United Kingdom of Great Britain and Northern Ireland\", value=\"United Kingdom\",inplace=True)\n",
    "country_codes.replace(to_replace=\"United States of America\", value=\"United States\",inplace=True)\n",
    "country_codes.replace(to_replace=\"Russian Federation\", value=\"Russia\",inplace=True)\n",
    "country_codes.replace(to_replace=\"Netherlands, Kingdom of the\", value=\"Netherlands\",inplace=True)\n",
    "country_codes.replace(to_replace=\"Czechia\", value=\"Czech Republic\",inplace=True)\n",
    "country_codes.replace(to_replace=\"Iran, Islamic Republic of\", value=\"Iran\",inplace=True)\n",
    "country_codes.replace(to_replace=\"Korea, Democratic People's Republic of\", value=\"North Korea\",inplace=True)\n",
    "country_codes.replace(to_replace=\"Korea, Republic of\", value=\"Korea\",inplace=True)\n",
    "country_codes.replace(to_replace=\"Slovakia\", value=\"Slovak Republic\",inplace=True)\n",
    "country_codes.replace(to_replace=\"Viet Nam\", value=\"Vietnam\",inplace=True)\n",
    "country_codes.replace(to_replace=\"Taiwan, Province of China\", value=\"Taiwan\",inplace=True)\n",
    "country_codes.replace(to_replace=\"Tanzania, United Republic of\", value=\"Tanzania\",inplace=True)\n"
   ]
  },
  {
   "cell_type": "code",
   "execution_count": 6,
   "metadata": {
    "pycharm": {
     "name": "#%%\n"
    }
   },
   "outputs": [],
   "source": [
    "uni_with_country_codes = universities.merge(country_codes, left_on='country', right_on='name', how='left')\n"
   ]
  },
  {
   "cell_type": "code",
   "execution_count": 7,
   "metadata": {
    "pycharm": {
     "name": "#%%\n"
    }
   },
   "outputs": [],
   "source": [
    "# there should not be any null values\n",
    "nan_rows = uni_with_country_codes[uni_with_country_codes['alpha-2'].isnull()]"
   ]
  },
  {
   "cell_type": "code",
   "execution_count": 8,
   "metadata": {},
   "outputs": [],
   "source": [
    "uni_with_country_codes = uni_with_country_codes[['university','country','city','alpha-2','alpha-3','region','sub-region']]"
   ]
  },
  {
   "cell_type": "code",
   "execution_count": 9,
   "metadata": {},
   "outputs": [
    {
     "data": {
      "text/html": [
       "<div>\n",
       "<style scoped>\n",
       "    .dataframe tbody tr th:only-of-type {\n",
       "        vertical-align: middle;\n",
       "    }\n",
       "\n",
       "    .dataframe tbody tr th {\n",
       "        vertical-align: top;\n",
       "    }\n",
       "\n",
       "    .dataframe thead th {\n",
       "        text-align: right;\n",
       "    }\n",
       "</style>\n",
       "<table border=\"1\" class=\"dataframe\">\n",
       "  <thead>\n",
       "    <tr style=\"text-align: right;\">\n",
       "      <th></th>\n",
       "      <th>university</th>\n",
       "      <th>country</th>\n",
       "      <th>city</th>\n",
       "      <th>alpha-2</th>\n",
       "      <th>alpha-3</th>\n",
       "      <th>region</th>\n",
       "      <th>sub-region</th>\n",
       "    </tr>\n",
       "  </thead>\n",
       "  <tbody>\n",
       "    <tr>\n",
       "      <th>0</th>\n",
       "      <td>University of South Africa</td>\n",
       "      <td>South Africa</td>\n",
       "      <td>Pretoria</td>\n",
       "      <td>ZA</td>\n",
       "      <td>ZAF</td>\n",
       "      <td>Africa</td>\n",
       "      <td>Sub-Saharan Africa</td>\n",
       "    </tr>\n",
       "    <tr>\n",
       "      <th>1</th>\n",
       "      <td>Cairo University</td>\n",
       "      <td>Egypt</td>\n",
       "      <td>Cairo</td>\n",
       "      <td>EG</td>\n",
       "      <td>EGY</td>\n",
       "      <td>Africa</td>\n",
       "      <td>Northern Africa</td>\n",
       "    </tr>\n",
       "    <tr>\n",
       "      <th>2</th>\n",
       "      <td>National Autonomous University of Mexico</td>\n",
       "      <td>Mexico</td>\n",
       "      <td>Mexico</td>\n",
       "      <td>MX</td>\n",
       "      <td>MEX</td>\n",
       "      <td>Americas</td>\n",
       "      <td>Latin America and the Caribbean</td>\n",
       "    </tr>\n",
       "    <tr>\n",
       "      <th>3</th>\n",
       "      <td>Alexandria University</td>\n",
       "      <td>Egypt</td>\n",
       "      <td>Alexandria</td>\n",
       "      <td>EG</td>\n",
       "      <td>EGY</td>\n",
       "      <td>Africa</td>\n",
       "      <td>Northern Africa</td>\n",
       "    </tr>\n",
       "    <tr>\n",
       "      <th>4</th>\n",
       "      <td>Ain Shams University</td>\n",
       "      <td>Egypt</td>\n",
       "      <td>Cairo</td>\n",
       "      <td>EG</td>\n",
       "      <td>EGY</td>\n",
       "      <td>Africa</td>\n",
       "      <td>Northern Africa</td>\n",
       "    </tr>\n",
       "  </tbody>\n",
       "</table>\n",
       "</div>"
      ],
      "text/plain": [
       "                                 university       country        city alpha-2  \\\n",
       "0                University of South Africa  South Africa    Pretoria      ZA   \n",
       "1                          Cairo University         Egypt       Cairo      EG   \n",
       "2  National Autonomous University of Mexico        Mexico      Mexico      MX   \n",
       "3                     Alexandria University         Egypt  Alexandria      EG   \n",
       "4                      Ain Shams University         Egypt       Cairo      EG   \n",
       "\n",
       "  alpha-3    region                       sub-region  \n",
       "0     ZAF    Africa               Sub-Saharan Africa  \n",
       "1     EGY    Africa                  Northern Africa  \n",
       "2     MEX  Americas  Latin America and the Caribbean  \n",
       "3     EGY    Africa                  Northern Africa  \n",
       "4     EGY    Africa                  Northern Africa  "
      ]
     },
     "execution_count": 9,
     "metadata": {},
     "output_type": "execute_result"
    }
   ],
   "source": [
    "uni_with_country_codes.head()"
   ]
  },
  {
   "cell_type": "code",
   "execution_count": 10,
   "metadata": {},
   "outputs": [],
   "source": [
    "uni_with_country_codes.to_csv(os.path.join(cwd,\"country_city_universities.csv\"),index=False, header=['university','country','city','alpha_2','alpha_3','region','sub_region'])"
   ]
  },
  {
   "cell_type": "code",
   "execution_count": null,
   "metadata": {},
   "outputs": [],
   "source": []
  },
  {
   "cell_type": "code",
   "execution_count": null,
   "metadata": {},
   "outputs": [],
   "source": []
  },
  {
   "cell_type": "code",
   "execution_count": null,
   "metadata": {},
   "outputs": [],
   "source": []
  }
 ],
 "metadata": {
  "kernelspec": {
   "display_name": "Python 3 (ipykernel)",
   "language": "python",
   "name": "python3"
  },
  "language_info": {
   "codemirror_mode": {
    "name": "ipython",
    "version": 3
   },
   "file_extension": ".py",
   "mimetype": "text/x-python",
   "name": "python",
   "nbconvert_exporter": "python",
   "pygments_lexer": "ipython3",
   "version": "3.9.21"
  }
 },
 "nbformat": 4,
 "nbformat_minor": 4
}
