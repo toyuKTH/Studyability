{
 "cells": [
  {
   "cell_type": "code",
   "execution_count": 3,
   "metadata": {
    "collapsed": false,
    "jupyter": {
     "outputs_hidden": false
    },
    "pycharm": {
     "is_executing": true,
     "name": "#%%\n"
    }
   },
   "outputs": [],
   "source": [
    "import pandas as pd\n",
    "import numpy as np"
   ]
  },
  {
   "cell_type": "code",
   "execution_count": 4,
   "metadata": {},
   "outputs": [],
   "source": [
    "import os\n",
    "\n",
    "cwd = os.getcwd()\n",
    "temperature_path = os.path.join(cwd, \"raw/Average Temperature of Countries.csv\")\n",
    "country_codes_path = os.path.join(cwd,\"raw/ISO-3166-Countries-with-Regional-Code.csv\")"
   ]
  },
  {
   "cell_type": "code",
   "execution_count": 5,
   "metadata": {
    "collapsed": false,
    "jupyter": {
     "outputs_hidden": false
    },
    "pycharm": {
     "name": "#%%\n"
    }
   },
   "outputs": [
    {
     "name": "stdout",
     "output_type": "stream",
     "text": [
      "              Country  Year  Annual Mean  5-yr smooth Code\n",
      "0  Dominican Republic  1901        23.71        23.65  DOM\n",
      "1  Dominican Republic  1902        23.40        23.52  DOM\n",
      "2  Dominican Republic  1903        23.45        23.38  DOM\n",
      "3  Dominican Republic  1904        23.03        23.26  DOM\n",
      "4  Dominican Republic  1905        23.44        23.16  DOM\n"
     ]
    },
    {
     "data": {
      "text/plain": [
       "20740"
      ]
     },
     "execution_count": 5,
     "metadata": {},
     "output_type": "execute_result"
    }
   ],
   "source": [
    "temperatures = pd.read_csv(temperature_path)\n",
    "print(temperatures.head())\n",
    "len(temperatures)\n"
   ]
  },
  {
   "cell_type": "code",
   "execution_count": 6,
   "metadata": {
    "collapsed": false,
    "jupyter": {
     "outputs_hidden": false
    },
    "pycharm": {
     "name": "#%%\n"
    }
   },
   "outputs": [
    {
     "name": "stdout",
     "output_type": "stream",
     "text": [
      "             name alpha-2 alpha-3  country-code     iso_3166-2   region  \\\n",
      "0     Afghanistan      AF     AFG             4  ISO 3166-2:AF     Asia   \n",
      "1   Åland Islands      AX     ALA           248  ISO 3166-2:AX   Europe   \n",
      "2         Albania      AL     ALB             8  ISO 3166-2:AL   Europe   \n",
      "3         Algeria      DZ     DZA            12  ISO 3166-2:DZ   Africa   \n",
      "4  American Samoa      AS     ASM            16  ISO 3166-2:AS  Oceania   \n",
      "\n",
      "        sub-region intermediate-region  region-code  sub-region-code  \\\n",
      "0    Southern Asia                 NaN        142.0             34.0   \n",
      "1  Northern Europe                 NaN        150.0            154.0   \n",
      "2  Southern Europe                 NaN        150.0             39.0   \n",
      "3  Northern Africa                 NaN          2.0             15.0   \n",
      "4        Polynesia                 NaN          9.0             61.0   \n",
      "\n",
      "   intermediate-region-code  \n",
      "0                       NaN  \n",
      "1                       NaN  \n",
      "2                       NaN  \n",
      "3                       NaN  \n",
      "4                       NaN  \n"
     ]
    },
    {
     "data": {
      "text/plain": [
       "249"
      ]
     },
     "execution_count": 6,
     "metadata": {},
     "output_type": "execute_result"
    }
   ],
   "source": [
    "country_codes = pd.read_csv(country_codes_path)\n",
    "print(country_codes.head())\n",
    "len(country_codes)\n"
   ]
  },
  {
   "cell_type": "code",
   "execution_count": 13,
   "metadata": {
    "pycharm": {
     "name": "#%%\n"
    }
   },
   "outputs": [],
   "source": [
    "# rename some country names:\n",
    "country_codes.replace(to_replace=\"Türkiye\", value=\"Turkey\",inplace=True)\n",
    "country_codes.replace(to_replace=\"United Kingdom of Great Britain and Northern Ireland\", value=\"United Kingdom\",inplace=True)\n",
    "country_codes.replace(to_replace=\"United States of America\", value=\"United States\",inplace=True)\n",
    "country_codes.replace(to_replace=\"Russian Federation\", value=\"Russia\",inplace=True)\n",
    "country_codes.replace(to_replace=\"Netherlands, Kingdom of the\", value=\"Netherlands\",inplace=True)\n",
    "country_codes.replace(to_replace=\"Czechia\", value=\"Czech Republic\",inplace=True)\n",
    "country_codes.replace(to_replace=\"Iran, Islamic Republic of\", value=\"Iran\",inplace=True)\n",
    "country_codes.replace(to_replace=\"Korea, Democratic People's Republic of\", value=\"North Korea\",inplace=True)\n",
    "country_codes.replace(to_replace=\"Korea, Republic of\", value=\"South Korea\",inplace=True)\n",
    "country_codes.replace(to_replace=\"Viet Nam\", value=\"Vietnam\",inplace=True)\n",
    "country_codes.replace(to_replace=\"Taiwan, Province of China\", value=\"Taiwan\",inplace=True)\n",
    "country_codes.replace(to_replace=\"Tanzania, United Republic of\", value=\"Tanzania\",inplace=True)\n",
    "country_codes.replace(to_replace=\"Côte d'Ivoire\", value=\"Ivory Coast\",inplace=True)\n",
    "country_codes.replace(to_replace=\"Syrian Arab Republic\", value=\"Syria\",inplace=True)\n",
    "country_codes.replace(to_replace=\"Congo, Democratic Republic of the\", value=\"Democratic Republic of the Congo\",inplace=True)\n",
    "country_codes.replace(to_replace=\"Lao People's Democratic Republic\", value=\"Laos\",inplace=True)\n",
    "country_codes.replace(to_replace=\"Bolivia, Plurinational State of\", value=\"Bolivia\",inplace=True)\n",
    "country_codes.replace(to_replace=\"Falkland Islands (Malvinas)\", value=\"Falkland Islands\",inplace=True)\n",
    "country_codes.replace(to_replace=\"Venezuela, Bolivarian Republic of\", value=\"Venezuela\",inplace=True)\n",
    "country_codes.replace(to_replace=\"Moldova, Republic of\", value=\"Moldova\",inplace=True)\n",
    "\n",
    "temperatures.replace(to_replace=\"DRC\", value=\"COD\", inplace=True)\n",
    "\n",
    "\n",
    "\n"
   ]
  },
  {
   "cell_type": "code",
   "execution_count": 14,
   "metadata": {
    "pycharm": {
     "name": "#%%\n"
    }
   },
   "outputs": [],
   "source": [
    "temperature_with_country_codes = temperatures.merge(country_codes, left_on='Code', right_on='alpha-3', how='left')\n"
   ]
  },
  {
   "cell_type": "code",
   "execution_count": 15,
   "metadata": {
    "pycharm": {
     "name": "#%%\n"
    }
   },
   "outputs": [
    {
     "data": {
      "text/html": [
       "<div>\n",
       "<style scoped>\n",
       "    .dataframe tbody tr th:only-of-type {\n",
       "        vertical-align: middle;\n",
       "    }\n",
       "\n",
       "    .dataframe tbody tr th {\n",
       "        vertical-align: top;\n",
       "    }\n",
       "\n",
       "    .dataframe thead th {\n",
       "        text-align: right;\n",
       "    }\n",
       "</style>\n",
       "<table border=\"1\" class=\"dataframe\">\n",
       "  <thead>\n",
       "    <tr style=\"text-align: right;\">\n",
       "      <th></th>\n",
       "      <th>Country</th>\n",
       "      <th>Year</th>\n",
       "      <th>Annual Mean</th>\n",
       "      <th>5-yr smooth</th>\n",
       "      <th>Code</th>\n",
       "      <th>name</th>\n",
       "      <th>alpha-2</th>\n",
       "      <th>alpha-3</th>\n",
       "      <th>country-code</th>\n",
       "      <th>iso_3166-2</th>\n",
       "      <th>region</th>\n",
       "      <th>sub-region</th>\n",
       "      <th>intermediate-region</th>\n",
       "      <th>region-code</th>\n",
       "      <th>sub-region-code</th>\n",
       "      <th>intermediate-region-code</th>\n",
       "    </tr>\n",
       "  </thead>\n",
       "  <tbody>\n",
       "  </tbody>\n",
       "</table>\n",
       "</div>"
      ],
      "text/plain": [
       "Empty DataFrame\n",
       "Columns: [Country, Year, Annual Mean, 5-yr smooth, Code, name, alpha-2, alpha-3, country-code, iso_3166-2, region, sub-region, intermediate-region, region-code, sub-region-code, intermediate-region-code]\n",
       "Index: []"
      ]
     },
     "execution_count": 15,
     "metadata": {},
     "output_type": "execute_result"
    }
   ],
   "source": [
    "# there should not be any null values\n",
    "nan_rows = temperature_with_country_codes[temperature_with_country_codes['alpha-2'].isnull()]\n",
    "nan_rows"
   ]
  },
  {
   "cell_type": "code",
   "execution_count": 19,
   "metadata": {},
   "outputs": [
    {
     "data": {
      "text/html": [
       "<div>\n",
       "<style scoped>\n",
       "    .dataframe tbody tr th:only-of-type {\n",
       "        vertical-align: middle;\n",
       "    }\n",
       "\n",
       "    .dataframe tbody tr th {\n",
       "        vertical-align: top;\n",
       "    }\n",
       "\n",
       "    .dataframe thead th {\n",
       "        text-align: right;\n",
       "    }\n",
       "</style>\n",
       "<table border=\"1\" class=\"dataframe\">\n",
       "  <thead>\n",
       "    <tr style=\"text-align: right;\">\n",
       "      <th></th>\n",
       "      <th>Country</th>\n",
       "      <th>Year</th>\n",
       "      <th>Annual Mean</th>\n",
       "      <th>5-yr smooth</th>\n",
       "      <th>alpha-2</th>\n",
       "      <th>alpha-3</th>\n",
       "      <th>region</th>\n",
       "      <th>sub-region</th>\n",
       "    </tr>\n",
       "  </thead>\n",
       "  <tbody>\n",
       "    <tr>\n",
       "      <th>0</th>\n",
       "      <td>Dominican Republic</td>\n",
       "      <td>1901</td>\n",
       "      <td>23.71</td>\n",
       "      <td>23.65</td>\n",
       "      <td>DO</td>\n",
       "      <td>DOM</td>\n",
       "      <td>Americas</td>\n",
       "      <td>Latin America and the Caribbean</td>\n",
       "    </tr>\n",
       "    <tr>\n",
       "      <th>1</th>\n",
       "      <td>Dominican Republic</td>\n",
       "      <td>1902</td>\n",
       "      <td>23.40</td>\n",
       "      <td>23.52</td>\n",
       "      <td>DO</td>\n",
       "      <td>DOM</td>\n",
       "      <td>Americas</td>\n",
       "      <td>Latin America and the Caribbean</td>\n",
       "    </tr>\n",
       "    <tr>\n",
       "      <th>2</th>\n",
       "      <td>Dominican Republic</td>\n",
       "      <td>1903</td>\n",
       "      <td>23.45</td>\n",
       "      <td>23.38</td>\n",
       "      <td>DO</td>\n",
       "      <td>DOM</td>\n",
       "      <td>Americas</td>\n",
       "      <td>Latin America and the Caribbean</td>\n",
       "    </tr>\n",
       "    <tr>\n",
       "      <th>3</th>\n",
       "      <td>Dominican Republic</td>\n",
       "      <td>1904</td>\n",
       "      <td>23.03</td>\n",
       "      <td>23.26</td>\n",
       "      <td>DO</td>\n",
       "      <td>DOM</td>\n",
       "      <td>Americas</td>\n",
       "      <td>Latin America and the Caribbean</td>\n",
       "    </tr>\n",
       "    <tr>\n",
       "      <th>4</th>\n",
       "      <td>Dominican Republic</td>\n",
       "      <td>1905</td>\n",
       "      <td>23.44</td>\n",
       "      <td>23.16</td>\n",
       "      <td>DO</td>\n",
       "      <td>DOM</td>\n",
       "      <td>Americas</td>\n",
       "      <td>Latin America and the Caribbean</td>\n",
       "    </tr>\n",
       "    <tr>\n",
       "      <th>...</th>\n",
       "      <td>...</td>\n",
       "      <td>...</td>\n",
       "      <td>...</td>\n",
       "      <td>...</td>\n",
       "      <td>...</td>\n",
       "      <td>...</td>\n",
       "      <td>...</td>\n",
       "      <td>...</td>\n",
       "    </tr>\n",
       "    <tr>\n",
       "      <th>20735</th>\n",
       "      <td>Switzerland</td>\n",
       "      <td>2018</td>\n",
       "      <td>7.68</td>\n",
       "      <td>7.27</td>\n",
       "      <td>CH</td>\n",
       "      <td>CHE</td>\n",
       "      <td>Europe</td>\n",
       "      <td>Western Europe</td>\n",
       "    </tr>\n",
       "    <tr>\n",
       "      <th>20736</th>\n",
       "      <td>Switzerland</td>\n",
       "      <td>2019</td>\n",
       "      <td>7.31</td>\n",
       "      <td>7.34</td>\n",
       "      <td>CH</td>\n",
       "      <td>CHE</td>\n",
       "      <td>Europe</td>\n",
       "      <td>Western Europe</td>\n",
       "    </tr>\n",
       "    <tr>\n",
       "      <th>20737</th>\n",
       "      <td>Switzerland</td>\n",
       "      <td>2020</td>\n",
       "      <td>7.64</td>\n",
       "      <td>7.38</td>\n",
       "      <td>CH</td>\n",
       "      <td>CHE</td>\n",
       "      <td>Europe</td>\n",
       "      <td>Western Europe</td>\n",
       "    </tr>\n",
       "    <tr>\n",
       "      <th>20738</th>\n",
       "      <td>Switzerland</td>\n",
       "      <td>2021</td>\n",
       "      <td>6.39</td>\n",
       "      <td>7.42</td>\n",
       "      <td>CH</td>\n",
       "      <td>CHE</td>\n",
       "      <td>Europe</td>\n",
       "      <td>Western Europe</td>\n",
       "    </tr>\n",
       "    <tr>\n",
       "      <th>20739</th>\n",
       "      <td>Switzerland</td>\n",
       "      <td>2022</td>\n",
       "      <td>8.08</td>\n",
       "      <td>7.44</td>\n",
       "      <td>CH</td>\n",
       "      <td>CHE</td>\n",
       "      <td>Europe</td>\n",
       "      <td>Western Europe</td>\n",
       "    </tr>\n",
       "  </tbody>\n",
       "</table>\n",
       "<p>20740 rows × 8 columns</p>\n",
       "</div>"
      ],
      "text/plain": [
       "                  Country  Year  Annual Mean  5-yr smooth alpha-2 alpha-3  \\\n",
       "0      Dominican Republic  1901        23.71        23.65      DO     DOM   \n",
       "1      Dominican Republic  1902        23.40        23.52      DO     DOM   \n",
       "2      Dominican Republic  1903        23.45        23.38      DO     DOM   \n",
       "3      Dominican Republic  1904        23.03        23.26      DO     DOM   \n",
       "4      Dominican Republic  1905        23.44        23.16      DO     DOM   \n",
       "...                   ...   ...          ...          ...     ...     ...   \n",
       "20735         Switzerland  2018         7.68         7.27      CH     CHE   \n",
       "20736         Switzerland  2019         7.31         7.34      CH     CHE   \n",
       "20737         Switzerland  2020         7.64         7.38      CH     CHE   \n",
       "20738         Switzerland  2021         6.39         7.42      CH     CHE   \n",
       "20739         Switzerland  2022         8.08         7.44      CH     CHE   \n",
       "\n",
       "         region                       sub-region  \n",
       "0      Americas  Latin America and the Caribbean  \n",
       "1      Americas  Latin America and the Caribbean  \n",
       "2      Americas  Latin America and the Caribbean  \n",
       "3      Americas  Latin America and the Caribbean  \n",
       "4      Americas  Latin America and the Caribbean  \n",
       "...         ...                              ...  \n",
       "20735    Europe                   Western Europe  \n",
       "20736    Europe                   Western Europe  \n",
       "20737    Europe                   Western Europe  \n",
       "20738    Europe                   Western Europe  \n",
       "20739    Europe                   Western Europe  \n",
       "\n",
       "[20740 rows x 8 columns]"
      ]
     },
     "execution_count": 19,
     "metadata": {},
     "output_type": "execute_result"
    }
   ],
   "source": [
    "temperature_with_country_codes = temperature_with_country_codes[['Country',\n",
    "                                                                 'Year',\n",
    "                                                                 'Annual Mean',\n",
    "                                                                 '5-yr smooth',\n",
    "                                                                 'alpha-2',\n",
    "                                                                 'alpha-3',\n",
    "                                                                 'region',\n",
    "                                                                 'sub-region']]\n",
    "temperature_with_country_codes"
   ]
  },
  {
   "cell_type": "code",
   "execution_count": 20,
   "metadata": {},
   "outputs": [],
   "source": [
    "temperature_with_country_codes.to_csv(os.path.join(cwd,\"temperature_countries.csv\"),index=False, header=['country',\n",
    "                                                                 'year',\n",
    "                                                                 'annual_mean',\n",
    "                                                                 '5_year_smooth',\n",
    "                                                                 'alpha_2',\n",
    "                                                                 'alpha_3',\n",
    "                                                                 'region',\n",
    "                                                                 'sub_region'])"
   ]
  }
 ],
 "metadata": {
  "kernelspec": {
   "display_name": "Python 3 (ipykernel)",
   "language": "python",
   "name": "python3"
  },
  "language_info": {
   "codemirror_mode": {
    "name": "ipython",
    "version": 3
   },
   "file_extension": ".py",
   "mimetype": "text/x-python",
   "name": "python",
   "nbconvert_exporter": "python",
   "pygments_lexer": "ipython3",
   "version": "3.9.6"
  }
 },
 "nbformat": 4,
 "nbformat_minor": 4
}
