{
 "cells": [
  {
   "cell_type": "code",
   "execution_count": 1,
   "metadata": {
    "collapsed": false,
    "jupyter": {
     "outputs_hidden": false
    },
    "pycharm": {
     "is_executing": true,
     "name": "#%%\n"
    }
   },
   "outputs": [],
   "source": [
    "import os\n",
    "import pandas as pd\n",
    "import numpy as np\n",
    "cwd = os.getcwd()\n",
    "parentwd = os.path.dirname(cwd)"
   ]
  },
  {
   "cell_type": "code",
   "execution_count": 2,
   "metadata": {
    "collapsed": false,
    "jupyter": {
     "outputs_hidden": false
    },
    "pycharm": {
     "name": "#%%\n"
    }
   },
   "outputs": [
    {
     "data": {
      "text/plain": [
       "'/Users/boraberke/drive/kth/kthgit/studyability/data'"
      ]
     },
     "execution_count": 2,
     "metadata": {},
     "output_type": "execute_result"
    }
   ],
   "source": [
    "parentwd\n"
   ]
  },
  {
   "cell_type": "code",
   "execution_count": 3,
   "metadata": {
    "pycharm": {
     "name": "#%%\n"
    }
   },
   "outputs": [],
   "source": [
    "dataset_names = [\n",
    "    \"temperature_cities\",\n",
    "    \"cost_of_living_cities\",\n",
    "    \"ef_education_index\",\n",
    "]\n",
    "paths = dict()\n",
    "for dataset in dataset_names:\n",
    "    paths[dataset] = os.path.join(parentwd,f\"{dataset}.csv\")"
   ]
  },
  {
   "cell_type": "code",
   "execution_count": 4,
   "metadata": {
    "pycharm": {
     "name": "#%%\n"
    }
   },
   "outputs": [
    {
     "data": {
      "text/plain": [
       "{'temperature_cities': '/Users/boraberke/drive/kth/kthgit/studyability/data/temperature_cities.csv',\n",
       " 'cost_of_living_cities': '/Users/boraberke/drive/kth/kthgit/studyability/data/cost_of_living_cities.csv',\n",
       " 'ef_education_index': '/Users/boraberke/drive/kth/kthgit/studyability/data/ef_education_index.csv'}"
      ]
     },
     "execution_count": 4,
     "metadata": {},
     "output_type": "execute_result"
    }
   ],
   "source": [
    "paths"
   ]
  },
  {
   "cell_type": "code",
   "execution_count": 5,
   "metadata": {
    "pycharm": {
     "name": "#%%\n"
    }
   },
   "outputs": [],
   "source": [
    "# read datasets\n",
    "dfs = {}\n",
    "for name,path in paths.items():\n",
    "    dfs[name] = pd.read_csv(path)"
   ]
  },
  {
   "cell_type": "code",
   "execution_count": 6,
   "metadata": {
    "pycharm": {
     "name": "#%%\n"
    }
   },
   "outputs": [
    {
     "data": {
      "text/html": [
       "<div>\n",
       "<style scoped>\n",
       "    .dataframe tbody tr th:only-of-type {\n",
       "        vertical-align: middle;\n",
       "    }\n",
       "\n",
       "    .dataframe tbody tr th {\n",
       "        vertical-align: top;\n",
       "    }\n",
       "\n",
       "    .dataframe thead th {\n",
       "        text-align: right;\n",
       "    }\n",
       "</style>\n",
       "<table border=\"1\" class=\"dataframe\">\n",
       "  <thead>\n",
       "    <tr style=\"text-align: right;\">\n",
       "      <th></th>\n",
       "      <th>country</th>\n",
       "      <th>city</th>\n",
       "      <th>jan</th>\n",
       "      <th>feb</th>\n",
       "      <th>mar</th>\n",
       "      <th>apr</th>\n",
       "      <th>jun</th>\n",
       "      <th>jul</th>\n",
       "      <th>aug</th>\n",
       "      <th>sep</th>\n",
       "      <th>oct</th>\n",
       "      <th>nov</th>\n",
       "      <th>dec</th>\n",
       "      <th>year_avg</th>\n",
       "      <th>alpha_2</th>\n",
       "      <th>alpha_3</th>\n",
       "      <th>region</th>\n",
       "      <th>sub_region</th>\n",
       "    </tr>\n",
       "  </thead>\n",
       "  <tbody>\n",
       "    <tr>\n",
       "      <th>0</th>\n",
       "      <td>Algeria</td>\n",
       "      <td>Algiers</td>\n",
       "      <td>11.2</td>\n",
       "      <td>11.9</td>\n",
       "      <td>12.8</td>\n",
       "      <td>14.7</td>\n",
       "      <td>21.3</td>\n",
       "      <td>24.6</td>\n",
       "      <td>25.2</td>\n",
       "      <td>23.2</td>\n",
       "      <td>19.4</td>\n",
       "      <td>15.2</td>\n",
       "      <td>12.1</td>\n",
       "      <td>17.4</td>\n",
       "      <td>DZ</td>\n",
       "      <td>DZA</td>\n",
       "      <td>Africa</td>\n",
       "      <td>Northern Africa</td>\n",
       "    </tr>\n",
       "    <tr>\n",
       "      <th>1</th>\n",
       "      <td>Algeria</td>\n",
       "      <td>Tamanrasset</td>\n",
       "      <td>12.8</td>\n",
       "      <td>15.0</td>\n",
       "      <td>18.1</td>\n",
       "      <td>22.2</td>\n",
       "      <td>28.9</td>\n",
       "      <td>28.7</td>\n",
       "      <td>28.2</td>\n",
       "      <td>26.5</td>\n",
       "      <td>22.4</td>\n",
       "      <td>17.3</td>\n",
       "      <td>13.9</td>\n",
       "      <td>21.7</td>\n",
       "      <td>DZ</td>\n",
       "      <td>DZA</td>\n",
       "      <td>Africa</td>\n",
       "      <td>Northern Africa</td>\n",
       "    </tr>\n",
       "    <tr>\n",
       "      <th>2</th>\n",
       "      <td>Algeria</td>\n",
       "      <td>Reggane</td>\n",
       "      <td>16.0</td>\n",
       "      <td>18.2</td>\n",
       "      <td>23.1</td>\n",
       "      <td>27.9</td>\n",
       "      <td>36.4</td>\n",
       "      <td>39.8</td>\n",
       "      <td>38.4</td>\n",
       "      <td>35.5</td>\n",
       "      <td>29.2</td>\n",
       "      <td>22.0</td>\n",
       "      <td>17.8</td>\n",
       "      <td>28.3</td>\n",
       "      <td>DZ</td>\n",
       "      <td>DZA</td>\n",
       "      <td>Africa</td>\n",
       "      <td>Northern Africa</td>\n",
       "    </tr>\n",
       "    <tr>\n",
       "      <th>3</th>\n",
       "      <td>Angola</td>\n",
       "      <td>Luanda</td>\n",
       "      <td>26.7</td>\n",
       "      <td>28.5</td>\n",
       "      <td>28.6</td>\n",
       "      <td>28.2</td>\n",
       "      <td>23.9</td>\n",
       "      <td>22.1</td>\n",
       "      <td>22.1</td>\n",
       "      <td>23.5</td>\n",
       "      <td>25.2</td>\n",
       "      <td>26.7</td>\n",
       "      <td>26.9</td>\n",
       "      <td>25.8</td>\n",
       "      <td>AO</td>\n",
       "      <td>AGO</td>\n",
       "      <td>Africa</td>\n",
       "      <td>Sub-Saharan Africa</td>\n",
       "    </tr>\n",
       "    <tr>\n",
       "      <th>4</th>\n",
       "      <td>Benin</td>\n",
       "      <td>Cotonou</td>\n",
       "      <td>27.3</td>\n",
       "      <td>28.5</td>\n",
       "      <td>28.9</td>\n",
       "      <td>28.6</td>\n",
       "      <td>26.5</td>\n",
       "      <td>25.8</td>\n",
       "      <td>25.6</td>\n",
       "      <td>26.0</td>\n",
       "      <td>26.7</td>\n",
       "      <td>27.6</td>\n",
       "      <td>27.3</td>\n",
       "      <td>27.2</td>\n",
       "      <td>BJ</td>\n",
       "      <td>BEN</td>\n",
       "      <td>Africa</td>\n",
       "      <td>Sub-Saharan Africa</td>\n",
       "    </tr>\n",
       "  </tbody>\n",
       "</table>\n",
       "</div>"
      ],
      "text/plain": [
       "   country         city   jan   feb   mar   apr   jun   jul   aug   sep   oct  \\\n",
       "0  Algeria      Algiers  11.2  11.9  12.8  14.7  21.3  24.6  25.2  23.2  19.4   \n",
       "1  Algeria  Tamanrasset  12.8  15.0  18.1  22.2  28.9  28.7  28.2  26.5  22.4   \n",
       "2  Algeria      Reggane  16.0  18.2  23.1  27.9  36.4  39.8  38.4  35.5  29.2   \n",
       "3   Angola       Luanda  26.7  28.5  28.6  28.2  23.9  22.1  22.1  23.5  25.2   \n",
       "4    Benin      Cotonou  27.3  28.5  28.9  28.6  26.5  25.8  25.6  26.0  26.7   \n",
       "\n",
       "    nov   dec  year_avg alpha_2 alpha_3  region          sub_region  \n",
       "0  15.2  12.1      17.4      DZ     DZA  Africa     Northern Africa  \n",
       "1  17.3  13.9      21.7      DZ     DZA  Africa     Northern Africa  \n",
       "2  22.0  17.8      28.3      DZ     DZA  Africa     Northern Africa  \n",
       "3  26.7  26.9      25.8      AO     AGO  Africa  Sub-Saharan Africa  \n",
       "4  27.6  27.3      27.2      BJ     BEN  Africa  Sub-Saharan Africa  "
      ]
     },
     "execution_count": 6,
     "metadata": {},
     "output_type": "execute_result"
    }
   ],
   "source": [
    "dfs[\"temperature_cities\"].head()"
   ]
  },
  {
   "cell_type": "code",
   "execution_count": 7,
   "metadata": {
    "pycharm": {
     "name": "#%%\n"
    }
   },
   "outputs": [
    {
     "data": {
      "text/html": [
       "<div>\n",
       "<style scoped>\n",
       "    .dataframe tbody tr th:only-of-type {\n",
       "        vertical-align: middle;\n",
       "    }\n",
       "\n",
       "    .dataframe tbody tr th {\n",
       "        vertical-align: top;\n",
       "    }\n",
       "\n",
       "    .dataframe thead th {\n",
       "        text-align: right;\n",
       "    }\n",
       "</style>\n",
       "<table border=\"1\" class=\"dataframe\">\n",
       "  <thead>\n",
       "    <tr style=\"text-align: right;\">\n",
       "      <th></th>\n",
       "      <th>rank</th>\n",
       "      <th>cost_of_living_index</th>\n",
       "      <th>rent_index</th>\n",
       "      <th>cost_of_living_plus_rent_index</th>\n",
       "      <th>groceries_index</th>\n",
       "      <th>restaurant_price_index</th>\n",
       "      <th>local_purchasing_power_index</th>\n",
       "      <th>year</th>\n",
       "      <th>country</th>\n",
       "      <th>city</th>\n",
       "      <th>alpha_2</th>\n",
       "      <th>alpha_3</th>\n",
       "      <th>region</th>\n",
       "      <th>sub_region</th>\n",
       "    </tr>\n",
       "  </thead>\n",
       "  <tbody>\n",
       "    <tr>\n",
       "      <th>0</th>\n",
       "      <td>1</td>\n",
       "      <td>140.4</td>\n",
       "      <td>93.6</td>\n",
       "      <td>118.1</td>\n",
       "      <td>144.1</td>\n",
       "      <td>141.9</td>\n",
       "      <td>74.3</td>\n",
       "      <td>2023-06-01</td>\n",
       "      <td>Bermuda</td>\n",
       "      <td>Hamilton</td>\n",
       "      <td>BM</td>\n",
       "      <td>BMU</td>\n",
       "      <td>Americas</td>\n",
       "      <td>Northern America</td>\n",
       "    </tr>\n",
       "    <tr>\n",
       "      <th>1</th>\n",
       "      <td>2</td>\n",
       "      <td>130.0</td>\n",
       "      <td>46.4</td>\n",
       "      <td>90.2</td>\n",
       "      <td>137.4</td>\n",
       "      <td>121.7</td>\n",
       "      <td>113.2</td>\n",
       "      <td>2023-06-01</td>\n",
       "      <td>Switzerland</td>\n",
       "      <td>Basel</td>\n",
       "      <td>CH</td>\n",
       "      <td>CHE</td>\n",
       "      <td>Europe</td>\n",
       "      <td>Western Europe</td>\n",
       "    </tr>\n",
       "    <tr>\n",
       "      <th>2</th>\n",
       "      <td>3</td>\n",
       "      <td>128.5</td>\n",
       "      <td>69.1</td>\n",
       "      <td>100.2</td>\n",
       "      <td>120.4</td>\n",
       "      <td>129.7</td>\n",
       "      <td>104.0</td>\n",
       "      <td>2023-06-01</td>\n",
       "      <td>Switzerland</td>\n",
       "      <td>Zurich</td>\n",
       "      <td>CH</td>\n",
       "      <td>CHE</td>\n",
       "      <td>Europe</td>\n",
       "      <td>Western Europe</td>\n",
       "    </tr>\n",
       "    <tr>\n",
       "      <th>3</th>\n",
       "      <td>4</td>\n",
       "      <td>120.6</td>\n",
       "      <td>53.4</td>\n",
       "      <td>88.6</td>\n",
       "      <td>116.1</td>\n",
       "      <td>114.7</td>\n",
       "      <td>99.4</td>\n",
       "      <td>2023-06-01</td>\n",
       "      <td>Switzerland</td>\n",
       "      <td>Lausanne</td>\n",
       "      <td>CH</td>\n",
       "      <td>CHE</td>\n",
       "      <td>Europe</td>\n",
       "      <td>Western Europe</td>\n",
       "    </tr>\n",
       "    <tr>\n",
       "      <th>4</th>\n",
       "      <td>5</td>\n",
       "      <td>119.1</td>\n",
       "      <td>66.7</td>\n",
       "      <td>94.1</td>\n",
       "      <td>112.6</td>\n",
       "      <td>120.7</td>\n",
       "      <td>121.4</td>\n",
       "      <td>2023-06-01</td>\n",
       "      <td>Switzerland</td>\n",
       "      <td>Zug</td>\n",
       "      <td>CH</td>\n",
       "      <td>CHE</td>\n",
       "      <td>Europe</td>\n",
       "      <td>Western Europe</td>\n",
       "    </tr>\n",
       "  </tbody>\n",
       "</table>\n",
       "</div>"
      ],
      "text/plain": [
       "   rank  cost_of_living_index  rent_index  cost_of_living_plus_rent_index  \\\n",
       "0     1                 140.4        93.6                           118.1   \n",
       "1     2                 130.0        46.4                            90.2   \n",
       "2     3                 128.5        69.1                           100.2   \n",
       "3     4                 120.6        53.4                            88.6   \n",
       "4     5                 119.1        66.7                            94.1   \n",
       "\n",
       "   groceries_index  restaurant_price_index  local_purchasing_power_index  \\\n",
       "0            144.1                   141.9                          74.3   \n",
       "1            137.4                   121.7                         113.2   \n",
       "2            120.4                   129.7                         104.0   \n",
       "3            116.1                   114.7                          99.4   \n",
       "4            112.6                   120.7                         121.4   \n",
       "\n",
       "         year      country      city alpha_2 alpha_3    region  \\\n",
       "0  2023-06-01      Bermuda  Hamilton      BM     BMU  Americas   \n",
       "1  2023-06-01  Switzerland     Basel      CH     CHE    Europe   \n",
       "2  2023-06-01  Switzerland    Zurich      CH     CHE    Europe   \n",
       "3  2023-06-01  Switzerland  Lausanne      CH     CHE    Europe   \n",
       "4  2023-06-01  Switzerland       Zug      CH     CHE    Europe   \n",
       "\n",
       "         sub_region  \n",
       "0  Northern America  \n",
       "1    Western Europe  \n",
       "2    Western Europe  \n",
       "3    Western Europe  \n",
       "4    Western Europe  "
      ]
     },
     "execution_count": 7,
     "metadata": {},
     "output_type": "execute_result"
    }
   ],
   "source": [
    "dfs[\"cost_of_living_cities\"].head()"
   ]
  },
  {
   "cell_type": "code",
   "execution_count": 8,
   "metadata": {
    "pycharm": {
     "name": "#%%\n"
    }
   },
   "outputs": [
    {
     "data": {
      "text/html": [
       "<div>\n",
       "<style scoped>\n",
       "    .dataframe tbody tr th:only-of-type {\n",
       "        vertical-align: middle;\n",
       "    }\n",
       "\n",
       "    .dataframe tbody tr th {\n",
       "        vertical-align: top;\n",
       "    }\n",
       "\n",
       "    .dataframe thead th {\n",
       "        text-align: right;\n",
       "    }\n",
       "</style>\n",
       "<table border=\"1\" class=\"dataframe\">\n",
       "  <thead>\n",
       "    <tr style=\"text-align: right;\">\n",
       "      <th></th>\n",
       "      <th>rank</th>\n",
       "      <th>country</th>\n",
       "      <th>ef_score</th>\n",
       "      <th>level</th>\n",
       "      <th>year</th>\n",
       "      <th>alpha_2</th>\n",
       "      <th>alpha_3</th>\n",
       "      <th>region</th>\n",
       "      <th>sub_region</th>\n",
       "    </tr>\n",
       "  </thead>\n",
       "  <tbody>\n",
       "    <tr>\n",
       "      <th>0</th>\n",
       "      <td>1</td>\n",
       "      <td>Norway</td>\n",
       "      <td>69.09</td>\n",
       "      <td>Very High Proficiency</td>\n",
       "      <td>2011</td>\n",
       "      <td>NO</td>\n",
       "      <td>NOR</td>\n",
       "      <td>Europe</td>\n",
       "      <td>Northern Europe</td>\n",
       "    </tr>\n",
       "    <tr>\n",
       "      <th>1</th>\n",
       "      <td>2</td>\n",
       "      <td>Netherlands</td>\n",
       "      <td>67.93</td>\n",
       "      <td>Very High Proficiency</td>\n",
       "      <td>2011</td>\n",
       "      <td>NL</td>\n",
       "      <td>NLD</td>\n",
       "      <td>Europe</td>\n",
       "      <td>Western Europe</td>\n",
       "    </tr>\n",
       "    <tr>\n",
       "      <th>2</th>\n",
       "      <td>3</td>\n",
       "      <td>Denmark</td>\n",
       "      <td>66.91</td>\n",
       "      <td>Very High Proficiency</td>\n",
       "      <td>2011</td>\n",
       "      <td>DK</td>\n",
       "      <td>DNK</td>\n",
       "      <td>Europe</td>\n",
       "      <td>Northern Europe</td>\n",
       "    </tr>\n",
       "    <tr>\n",
       "      <th>3</th>\n",
       "      <td>4</td>\n",
       "      <td>Sweden</td>\n",
       "      <td>66.26</td>\n",
       "      <td>Very High Proficiency</td>\n",
       "      <td>2011</td>\n",
       "      <td>SE</td>\n",
       "      <td>SWE</td>\n",
       "      <td>Europe</td>\n",
       "      <td>Northern Europe</td>\n",
       "    </tr>\n",
       "    <tr>\n",
       "      <th>4</th>\n",
       "      <td>5</td>\n",
       "      <td>Finland</td>\n",
       "      <td>65.38</td>\n",
       "      <td>Very High Proficiency</td>\n",
       "      <td>2011</td>\n",
       "      <td>FI</td>\n",
       "      <td>FIN</td>\n",
       "      <td>Europe</td>\n",
       "      <td>Northern Europe</td>\n",
       "    </tr>\n",
       "  </tbody>\n",
       "</table>\n",
       "</div>"
      ],
      "text/plain": [
       "   rank      country  ef_score                  level  year alpha_2 alpha_3  \\\n",
       "0     1       Norway     69.09  Very High Proficiency  2011      NO     NOR   \n",
       "1     2  Netherlands     67.93  Very High Proficiency  2011      NL     NLD   \n",
       "2     3      Denmark     66.91  Very High Proficiency  2011      DK     DNK   \n",
       "3     4       Sweden     66.26  Very High Proficiency  2011      SE     SWE   \n",
       "4     5      Finland     65.38  Very High Proficiency  2011      FI     FIN   \n",
       "\n",
       "   region       sub_region  \n",
       "0  Europe  Northern Europe  \n",
       "1  Europe   Western Europe  \n",
       "2  Europe  Northern Europe  \n",
       "3  Europe  Northern Europe  \n",
       "4  Europe  Northern Europe  "
      ]
     },
     "execution_count": 8,
     "metadata": {},
     "output_type": "execute_result"
    }
   ],
   "source": [
    "dfs[\"ef_education_index\"].head()"
   ]
  },
  {
   "cell_type": "code",
   "execution_count": null,
   "outputs": [],
   "source": [
    "# use 2024-mid year data for cost of living\n",
    "dfs[\"cost_of_living_cities\"] = dfs[\"cost_of_living_cities\"].loc[dfs[\"cost_of_living_cities\"].year == \"2024-06-01\"]\n",
    "\n",
    "# # use 2022 data for temperature\n",
    "# dfs[\"temperature_countries\"] = dfs[\"temperature_countries\"].loc[dfs[\"temperature_countries\"].year == 2022]\n",
    "\n",
    "# use 2024 data for ef_education_index\n",
    "dfs[\"ef_education_index\"] = dfs[\"ef_education_index\"].loc[dfs[\"ef_education_index\"].year == 2024]\n",
    "\n",
    "\n",
    "native_speaking = pd.DataFrame({\"rank\":[0, 0, 0,0,0,0],\n",
    "                    \"country\": [\"United States\", \"Australia\",\"Canada\",\"United Kingdom\",\"Ireland\",\"New Zealand\"],\n",
    "                    \"ef_score\":[650.0, 650.0, 650.0, 650.0, 650.0, 650.0],\n",
    "                    \"level\":[\"Native\", \"Native\", \"Native\",\"Native\",\"Native\",\"Native\"],\n",
    "                    \"alpha_2\":[\"US\", \"AU\", \"CA\",\"GB\",\"IE\",\"NZ\"],\n",
    "                     \"region\":[\"Americas\", \"Oceania\", \"Americas\",\"Europe\",\"Europe\",\"Oceania\"],\n",
    "                     \"sub_region\":[\"Northern America\", \"Australia and New Zealand\", \"Northern America\",\"Northern Europe\",\"Northern Europe\",\"Australia and New Zealand\"]\n",
    "                               })\n",
    "\n",
    "\n",
    "\n",
    "dfs[\"ef_education_index\"] = pd.concat([dfs[\"ef_education_index\"], native_speaking], ignore_index=True)"
   ],
   "metadata": {
    "collapsed": false,
    "pycharm": {
     "name": "#%%\n"
    }
   }
  },
  {
   "cell_type": "code",
   "execution_count": null,
   "outputs": [],
   "source": [
    "merged = dfs[\"cost_of_living_cities\"].merge(dfs[\"temperature_cities\"][['year_avg','city']], how=\"left\",on=\"city\")\n",
    "merged_with_ef = merged.merge(dfs[\"ef_education_index\"][['ef_score',\"level\",\"alpha_2\"]], how=\"left\",on=\"alpha_2\")"
   ],
   "metadata": {
    "collapsed": false,
    "pycharm": {
     "name": "#%%\n"
    }
   }
  },
  {
   "cell_type": "code",
   "execution_count": null,
   "outputs": [],
   "source": [
    "merged_with_ef.head()"
   ],
   "metadata": {
    "collapsed": false,
    "pycharm": {
     "name": "#%%\n"
    }
   }
  },
  {
   "cell_type": "code",
   "execution_count": null,
   "outputs": [],
   "source": [
    "# there should not be any null values\n",
    "# these values are not found in city temperature dataset\n",
    "nan_rows = merged_with_ef[merged_with_ef['year_avg'].isnull()]\n",
    "nan_rows"
   ],
   "metadata": {
    "collapsed": false,
    "pycharm": {
     "name": "#%%\n"
    }
   }
  },
  {
   "cell_type": "code",
   "execution_count": null,
   "outputs": [],
   "source": [
    " merged_with_ef[merged_with_ef['ef_score'].isnull()]"
   ],
   "metadata": {
    "collapsed": false,
    "pycharm": {
     "name": "#%%\n"
    }
   }
  },
  {
   "cell_type": "code",
   "execution_count": null,
   "outputs": [],
   "source": [
    "# post process add missing\n",
    "missing_countries = pd.DataFrame({\"rank\":[117, 118, 119],\n",
    "                    \"country\": [\"Brunei\", \"Malta\",\"Puerto Rico\"],\n",
    "                    \"ef_score\":[393.0, 392.0, 391.0],\n",
    "                    \"level\":[\"Very Low Proficiency\", \"Very Low Proficiency\", \"Very Low Proficiency\"],\n",
    "                    \"alpha_2\":[\"BN\", \"MT\", \"PR\"],\n",
    "                     \"region\":[\"Asia\", \"Europe\", \"Americas\"],\n",
    "                     \"sub_region\":[\"South-eastern Asia\", \"Southern Europe\", \"Americas and the Caribbean\"]\n",
    "                               })\n",
    "merged_with_ef = pd.concat([merged_with_ef, missing_countries], ignore_index=True)"
   ],
   "metadata": {
    "collapsed": false,
    "pycharm": {
     "name": "#%%\n"
    }
   }
  },
  {
   "cell_type": "code",
   "execution_count": null,
   "outputs": [],
   "source": [
    "# observe that the post processed countries are added\n",
    "merged_with_ef.tail()"
   ],
   "metadata": {
    "collapsed": false,
    "pycharm": {
     "name": "#%%\n"
    }
   }
  },
  {
   "cell_type": "code",
   "execution_count": 15,
   "metadata": {},
   "outputs": [
    {
     "data": {
      "text/html": [
       "<div>\n",
       "<style scoped>\n",
       "    .dataframe tbody tr th:only-of-type {\n",
       "        vertical-align: middle;\n",
       "    }\n",
       "\n",
       "    .dataframe tbody tr th {\n",
       "        vertical-align: top;\n",
       "    }\n",
       "\n",
       "    .dataframe thead th {\n",
       "        text-align: right;\n",
       "    }\n",
       "</style>\n",
       "<table border=\"1\" class=\"dataframe\">\n",
       "  <thead>\n",
       "    <tr style=\"text-align: right;\">\n",
       "      <th></th>\n",
       "      <th>rank</th>\n",
       "      <th>cost_of_living_index</th>\n",
       "      <th>rent_index</th>\n",
       "      <th>cost_of_living_plus_rent_index</th>\n",
       "      <th>groceries_index</th>\n",
       "      <th>restaurant_price_index</th>\n",
       "      <th>local_purchasing_power_index</th>\n",
       "      <th>year</th>\n",
       "      <th>country</th>\n",
       "      <th>city</th>\n",
       "      <th>alpha_2</th>\n",
       "      <th>alpha_3</th>\n",
       "      <th>region</th>\n",
       "      <th>sub_region</th>\n",
       "      <th>year_avg</th>\n",
       "      <th>ef_score</th>\n",
       "      <th>level</th>\n",
       "    </tr>\n",
       "  </thead>\n",
       "  <tbody>\n",
       "    <tr>\n",
       "      <th>216</th>\n",
       "      <td>217</td>\n",
       "      <td>19.1</td>\n",
       "      <td>3.3</td>\n",
       "      <td>11.5</td>\n",
       "      <td>16.8</td>\n",
       "      <td>15.3</td>\n",
       "      <td>27.3</td>\n",
       "      <td>2024-06-01</td>\n",
       "      <td>Pakistan</td>\n",
       "      <td>Lahore</td>\n",
       "      <td>PK</td>\n",
       "      <td>PAK</td>\n",
       "      <td>Asia</td>\n",
       "      <td>Southern Asia</td>\n",
       "      <td>24.3</td>\n",
       "      <td>493.0</td>\n",
       "      <td>Low Proficiency</td>\n",
       "    </tr>\n",
       "    <tr>\n",
       "      <th>217</th>\n",
       "      <td>218</td>\n",
       "      <td>19.0</td>\n",
       "      <td>2.9</td>\n",
       "      <td>11.3</td>\n",
       "      <td>17.6</td>\n",
       "      <td>13.1</td>\n",
       "      <td>28.0</td>\n",
       "      <td>2024-06-01</td>\n",
       "      <td>Pakistan</td>\n",
       "      <td>Karachi</td>\n",
       "      <td>PK</td>\n",
       "      <td>PAK</td>\n",
       "      <td>Asia</td>\n",
       "      <td>Southern Asia</td>\n",
       "      <td>26.0</td>\n",
       "      <td>493.0</td>\n",
       "      <td>Low Proficiency</td>\n",
       "    </tr>\n",
       "    <tr>\n",
       "      <th>218</th>\n",
       "      <td>117</td>\n",
       "      <td>NaN</td>\n",
       "      <td>NaN</td>\n",
       "      <td>NaN</td>\n",
       "      <td>NaN</td>\n",
       "      <td>NaN</td>\n",
       "      <td>NaN</td>\n",
       "      <td>NaN</td>\n",
       "      <td>Brunei</td>\n",
       "      <td>NaN</td>\n",
       "      <td>BN</td>\n",
       "      <td>NaN</td>\n",
       "      <td>Asia</td>\n",
       "      <td>South-eastern Asia</td>\n",
       "      <td>NaN</td>\n",
       "      <td>393.0</td>\n",
       "      <td>Very Low Proficiency</td>\n",
       "    </tr>\n",
       "    <tr>\n",
       "      <th>219</th>\n",
       "      <td>118</td>\n",
       "      <td>NaN</td>\n",
       "      <td>NaN</td>\n",
       "      <td>NaN</td>\n",
       "      <td>NaN</td>\n",
       "      <td>NaN</td>\n",
       "      <td>NaN</td>\n",
       "      <td>NaN</td>\n",
       "      <td>Malta</td>\n",
       "      <td>NaN</td>\n",
       "      <td>MT</td>\n",
       "      <td>NaN</td>\n",
       "      <td>Europe</td>\n",
       "      <td>Southern Europe</td>\n",
       "      <td>NaN</td>\n",
       "      <td>392.0</td>\n",
       "      <td>Very Low Proficiency</td>\n",
       "    </tr>\n",
       "    <tr>\n",
       "      <th>220</th>\n",
       "      <td>119</td>\n",
       "      <td>NaN</td>\n",
       "      <td>NaN</td>\n",
       "      <td>NaN</td>\n",
       "      <td>NaN</td>\n",
       "      <td>NaN</td>\n",
       "      <td>NaN</td>\n",
       "      <td>NaN</td>\n",
       "      <td>Puerto Rico</td>\n",
       "      <td>NaN</td>\n",
       "      <td>PR</td>\n",
       "      <td>NaN</td>\n",
       "      <td>Americas</td>\n",
       "      <td>Americas and the Caribbean</td>\n",
       "      <td>NaN</td>\n",
       "      <td>391.0</td>\n",
       "      <td>Very Low Proficiency</td>\n",
       "    </tr>\n",
       "  </tbody>\n",
       "</table>\n",
       "</div>"
      ],
      "text/plain": [
       "     rank  cost_of_living_index  rent_index  cost_of_living_plus_rent_index  \\\n",
       "216   217                  19.1         3.3                            11.5   \n",
       "217   218                  19.0         2.9                            11.3   \n",
       "218   117                   NaN         NaN                             NaN   \n",
       "219   118                   NaN         NaN                             NaN   \n",
       "220   119                   NaN         NaN                             NaN   \n",
       "\n",
       "     groceries_index  restaurant_price_index  local_purchasing_power_index  \\\n",
       "216             16.8                    15.3                          27.3   \n",
       "217             17.6                    13.1                          28.0   \n",
       "218              NaN                     NaN                           NaN   \n",
       "219              NaN                     NaN                           NaN   \n",
       "220              NaN                     NaN                           NaN   \n",
       "\n",
       "           year      country     city alpha_2 alpha_3    region  \\\n",
       "216  2024-06-01     Pakistan   Lahore      PK     PAK      Asia   \n",
       "217  2024-06-01     Pakistan  Karachi      PK     PAK      Asia   \n",
       "218         NaN       Brunei      NaN      BN     NaN      Asia   \n",
       "219         NaN        Malta      NaN      MT     NaN    Europe   \n",
       "220         NaN  Puerto Rico      NaN      PR     NaN  Americas   \n",
       "\n",
       "                     sub_region  year_avg  ef_score                 level  \n",
       "216               Southern Asia      24.3     493.0       Low Proficiency  \n",
       "217               Southern Asia      26.0     493.0       Low Proficiency  \n",
       "218          South-eastern Asia       NaN     393.0  Very Low Proficiency  \n",
       "219             Southern Europe       NaN     392.0  Very Low Proficiency  \n",
       "220  Americas and the Caribbean       NaN     391.0  Very Low Proficiency  "
      ]
     },
     "execution_count": 15,
     "metadata": {},
     "output_type": "execute_result"
    }
   ],
   "source": [
    "# observe that the post processed countries are added\n",
    "merged_with_ef.tail()"
   ]
  },
  {
   "cell_type": "code",
   "execution_count": 16,
   "metadata": {
    "pycharm": {
     "name": "#%%\n"
    }
   },
   "outputs": [],
   "source": [
    "merged_with_ef = merged_with_ef[['cost_of_living_index',\n",
    "                                         'rent_index',\n",
    "                                         'cost_of_living_plus_rent_index',\n",
    "                                         'groceries_index',\n",
    "                                         'restaurant_price_index',\n",
    "                                         'local_purchasing_power_index',\n",
    "                                         'country',\n",
    "                                         'city',\n",
    "                                         'alpha_2',\n",
    "                                         'year_avg',\n",
    "                                         'ef_score',\n",
    "                                         'level']]\n",
    "                                         "
   ]
  },
  {
   "cell_type": "code",
   "execution_count": 17,
   "metadata": {
    "pycharm": {
     "name": "#%%\n"
    }
   },
   "outputs": [],
   "source": [
    "merged_with_ef.to_csv(os.path.join(cwd,\"city_level.csv\"),index=False, header=['cost_of_living_index',\n",
    "                                         'rent_index',\n",
    "                                         'cost_of_living_plus_rent_index',\n",
    "                                         'groceries_index',\n",
    "                                         'restaurant_price_index',\n",
    "                                         'local_purchasing_power_index',\n",
    "                                         'country',\n",
    "                                         'city',\n",
    "                                         'country_code',\n",
    "                                         'temp_year_avg',\n",
    "                                         'ef_score',\n",
    "                                         'ef_level'])"
   ]
  },
  {
   "cell_type": "code",
   "execution_count": null,
   "metadata": {
    "pycharm": {
     "name": "#%%\n"
    }
   },
   "outputs": [],
   "source": []
  }
 ],
 "metadata": {
  "kernelspec": {
   "display_name": "Python 3 (ipykernel)",
   "language": "python",
   "name": "python3"
  },
  "language_info": {
   "codemirror_mode": {
    "name": "ipython",
    "version": 3
   },
   "file_extension": ".py",
   "mimetype": "text/x-python",
   "name": "python",
   "nbconvert_exporter": "python",
   "pygments_lexer": "ipython3",
   "version": "3.9.6"
  }
 },
 "nbformat": 4,
 "nbformat_minor": 4
}