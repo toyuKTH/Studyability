{
 "cells": [
  {
   "cell_type": "markdown",
   "metadata": {},
   "source": []
  },
  {
   "cell_type": "code",
   "execution_count": 30,
   "metadata": {
    "collapsed": false,
    "jupyter": {
     "outputs_hidden": false
    },
    "pycharm": {
     "is_executing": true,
     "name": "#%%\n"
    }
   },
   "outputs": [],
   "source": [
    "import pandas as pd\n",
    "import numpy as np"
   ]
  },
  {
   "cell_type": "code",
   "execution_count": 31,
   "metadata": {},
   "outputs": [],
   "source": [
    "import os\n",
    "\n",
    "cwd = os.getcwd()\n",
    "ppr_path = os.path.join(cwd, \"raw/passport-index-tidy-iso2.csv\")"
   ]
  },
  {
   "cell_type": "code",
   "execution_count": 32,
   "metadata": {
    "collapsed": false,
    "jupyter": {
     "outputs_hidden": false
    },
    "pycharm": {
     "name": "#%%\n"
    }
   },
   "outputs": [
    {
     "name": "stdout",
     "output_type": "stream",
     "text": [
      "  Passport Destination    Requirement\n",
      "0       AF          AL         e-visa\n",
      "1       AF          DZ  visa required\n",
      "2       AF          AD  visa required\n",
      "3       AF          AO  visa required\n",
      "4       AF          AG         e-visa\n"
     ]
    },
    {
     "data": {
      "text/plain": [
       "39601"
      ]
     },
     "execution_count": 32,
     "metadata": {},
     "output_type": "execute_result"
    }
   ],
   "source": [
    "ppr = pd.read_csv(ppr_path)\n",
    "print(ppr.head())\n",
    "len(ppr)\n"
   ]
  },
  {
   "cell_type": "code",
   "execution_count": 33,
   "metadata": {},
   "outputs": [
    {
     "data": {
      "text/plain": [
       "Index(['-1', '10', '120', '14', '15', '150', '180', '21', '240', '28', '30',\n",
       "       '31', '360', '42', '45', '60', '7', '90', 'e-visa', 'eta',\n",
       "       'no admission', 'visa free', 'visa on arrival', 'visa required'],\n",
       "      dtype='object', name='Requirement')"
      ]
     },
     "execution_count": 33,
     "metadata": {},
     "output_type": "execute_result"
    }
   ],
   "source": [
    "requirement_counts = ppr.groupby(['Passport', 'Requirement']).size().unstack(fill_value=0)\n",
    "requirement_counts.columns"
   ]
  },
  {
   "cell_type": "code",
   "execution_count": 38,
   "metadata": {
    "pycharm": {
     "name": "#%%\n"
    }
   },
   "outputs": [],
   "source": [
    "\n",
    "req_counts = pd.DataFrame()\n",
    "req_counts['e_visa_or_visa_on_arrival'] = requirement_counts[['e-visa', 'visa on arrival']].sum(axis=1)\n",
    "req_counts['eta'] = requirement_counts[['eta']].sum(axis=1)\n",
    "req_counts['visa_required'] = requirement_counts[['visa required', 'no admission']].sum(axis=1)\n",
    "req_counts['visa_not_required'] = requirement_counts[['10', '120', '14', '15', '150', '180', '21', '240', '28', '30','31', '360', '42', '45', '60', '7', '90','visa free']].sum(axis=1)\n"
   ]
  },
  {
   "cell_type": "code",
   "execution_count": 40,
   "metadata": {},
   "outputs": [
    {
     "data": {
      "text/html": [
       "<div>\n",
       "<style scoped>\n",
       "    .dataframe tbody tr th:only-of-type {\n",
       "        vertical-align: middle;\n",
       "    }\n",
       "\n",
       "    .dataframe tbody tr th {\n",
       "        vertical-align: top;\n",
       "    }\n",
       "\n",
       "    .dataframe thead th {\n",
       "        text-align: right;\n",
       "    }\n",
       "</style>\n",
       "<table border=\"1\" class=\"dataframe\">\n",
       "  <thead>\n",
       "    <tr style=\"text-align: right;\">\n",
       "      <th></th>\n",
       "      <th>Passport</th>\n",
       "      <th>e_visa_or_visa_on_arrival</th>\n",
       "      <th>eta</th>\n",
       "      <th>visa_required</th>\n",
       "      <th>visa_not_required</th>\n",
       "    </tr>\n",
       "  </thead>\n",
       "  <tbody>\n",
       "    <tr>\n",
       "      <th>0</th>\n",
       "      <td>AD</td>\n",
       "      <td>64</td>\n",
       "      <td>8</td>\n",
       "      <td>25</td>\n",
       "      <td>101</td>\n",
       "    </tr>\n",
       "    <tr>\n",
       "      <th>1</th>\n",
       "      <td>AE</td>\n",
       "      <td>52</td>\n",
       "      <td>5</td>\n",
       "      <td>14</td>\n",
       "      <td>127</td>\n",
       "    </tr>\n",
       "    <tr>\n",
       "      <th>2</th>\n",
       "      <td>AF</td>\n",
       "      <td>70</td>\n",
       "      <td>2</td>\n",
       "      <td>122</td>\n",
       "      <td>4</td>\n",
       "    </tr>\n",
       "    <tr>\n",
       "      <th>3</th>\n",
       "      <td>AG</td>\n",
       "      <td>60</td>\n",
       "      <td>5</td>\n",
       "      <td>34</td>\n",
       "      <td>99</td>\n",
       "    </tr>\n",
       "    <tr>\n",
       "      <th>4</th>\n",
       "      <td>AL</td>\n",
       "      <td>69</td>\n",
       "      <td>3</td>\n",
       "      <td>52</td>\n",
       "      <td>74</td>\n",
       "    </tr>\n",
       "    <tr>\n",
       "      <th>...</th>\n",
       "      <td>...</td>\n",
       "      <td>...</td>\n",
       "      <td>...</td>\n",
       "      <td>...</td>\n",
       "      <td>...</td>\n",
       "    </tr>\n",
       "    <tr>\n",
       "      <th>193</th>\n",
       "      <td>XK</td>\n",
       "      <td>66</td>\n",
       "      <td>2</td>\n",
       "      <td>80</td>\n",
       "      <td>50</td>\n",
       "    </tr>\n",
       "    <tr>\n",
       "      <th>194</th>\n",
       "      <td>YE</td>\n",
       "      <td>69</td>\n",
       "      <td>2</td>\n",
       "      <td>118</td>\n",
       "      <td>9</td>\n",
       "    </tr>\n",
       "    <tr>\n",
       "      <th>195</th>\n",
       "      <td>ZA</td>\n",
       "      <td>62</td>\n",
       "      <td>5</td>\n",
       "      <td>71</td>\n",
       "      <td>60</td>\n",
       "    </tr>\n",
       "    <tr>\n",
       "      <th>196</th>\n",
       "      <td>ZM</td>\n",
       "      <td>57</td>\n",
       "      <td>4</td>\n",
       "      <td>99</td>\n",
       "      <td>38</td>\n",
       "    </tr>\n",
       "    <tr>\n",
       "      <th>197</th>\n",
       "      <td>ZW</td>\n",
       "      <td>59</td>\n",
       "      <td>2</td>\n",
       "      <td>101</td>\n",
       "      <td>36</td>\n",
       "    </tr>\n",
       "  </tbody>\n",
       "</table>\n",
       "<p>198 rows × 5 columns</p>\n",
       "</div>"
      ],
      "text/plain": [
       "    Passport  e_visa_or_visa_on_arrival  eta  visa_required  visa_not_required\n",
       "0         AD                         64    8             25                101\n",
       "1         AE                         52    5             14                127\n",
       "2         AF                         70    2            122                  4\n",
       "3         AG                         60    5             34                 99\n",
       "4         AL                         69    3             52                 74\n",
       "..       ...                        ...  ...            ...                ...\n",
       "193       XK                         66    2             80                 50\n",
       "194       YE                         69    2            118                  9\n",
       "195       ZA                         62    5             71                 60\n",
       "196       ZM                         57    4             99                 38\n",
       "197       ZW                         59    2            101                 36\n",
       "\n",
       "[198 rows x 5 columns]"
      ]
     },
     "execution_count": 40,
     "metadata": {},
     "output_type": "execute_result"
    }
   ],
   "source": [
    "new_req.reset_index(inplace=True)\n",
    "new_req\n"
   ]
  },
  {
   "cell_type": "code",
   "execution_count": 41,
   "metadata": {},
   "outputs": [],
   "source": [
    "req_with_country_codes = new_req[[\n",
    "    'Passport',\n",
    "    'e_visa_or_visa_on_arrival',\n",
    "    'eta',\n",
    "    'visa_required',\n",
    "    'visa_not_required']]"
   ]
  },
  {
   "cell_type": "code",
   "execution_count": 96,
   "metadata": {},
   "outputs": [
    {
     "data": {
      "text/html": [
       "<div>\n",
       "<style scoped>\n",
       "    .dataframe tbody tr th:only-of-type {\n",
       "        vertical-align: middle;\n",
       "    }\n",
       "\n",
       "    .dataframe tbody tr th {\n",
       "        vertical-align: top;\n",
       "    }\n",
       "\n",
       "    .dataframe thead th {\n",
       "        text-align: right;\n",
       "    }\n",
       "</style>\n",
       "<table border=\"1\" class=\"dataframe\">\n",
       "  <thead>\n",
       "    <tr style=\"text-align: right;\">\n",
       "      <th></th>\n",
       "      <th>Rank</th>\n",
       "      <th>Country</th>\n",
       "      <th>EF EPI Score</th>\n",
       "      <th>Level</th>\n",
       "      <th>Year</th>\n",
       "      <th>alpha-2</th>\n",
       "      <th>alpha-3</th>\n",
       "      <th>region</th>\n",
       "      <th>sub-region</th>\n",
       "    </tr>\n",
       "  </thead>\n",
       "  <tbody>\n",
       "    <tr>\n",
       "      <th>0</th>\n",
       "      <td>1</td>\n",
       "      <td>Norway</td>\n",
       "      <td>69.09</td>\n",
       "      <td>Very High Proficiency</td>\n",
       "      <td>2011</td>\n",
       "      <td>NO</td>\n",
       "      <td>NOR</td>\n",
       "      <td>Europe</td>\n",
       "      <td>Northern Europe</td>\n",
       "    </tr>\n",
       "    <tr>\n",
       "      <th>1</th>\n",
       "      <td>2</td>\n",
       "      <td>Netherlands</td>\n",
       "      <td>67.93</td>\n",
       "      <td>Very High Proficiency</td>\n",
       "      <td>2011</td>\n",
       "      <td>NL</td>\n",
       "      <td>NLD</td>\n",
       "      <td>Europe</td>\n",
       "      <td>Western Europe</td>\n",
       "    </tr>\n",
       "    <tr>\n",
       "      <th>2</th>\n",
       "      <td>3</td>\n",
       "      <td>Denmark</td>\n",
       "      <td>66.91</td>\n",
       "      <td>Very High Proficiency</td>\n",
       "      <td>2011</td>\n",
       "      <td>DK</td>\n",
       "      <td>DNK</td>\n",
       "      <td>Europe</td>\n",
       "      <td>Northern Europe</td>\n",
       "    </tr>\n",
       "    <tr>\n",
       "      <th>3</th>\n",
       "      <td>4</td>\n",
       "      <td>Sweden</td>\n",
       "      <td>66.26</td>\n",
       "      <td>Very High Proficiency</td>\n",
       "      <td>2011</td>\n",
       "      <td>SE</td>\n",
       "      <td>SWE</td>\n",
       "      <td>Europe</td>\n",
       "      <td>Northern Europe</td>\n",
       "    </tr>\n",
       "    <tr>\n",
       "      <th>4</th>\n",
       "      <td>5</td>\n",
       "      <td>Finland</td>\n",
       "      <td>65.38</td>\n",
       "      <td>Very High Proficiency</td>\n",
       "      <td>2011</td>\n",
       "      <td>FI</td>\n",
       "      <td>FIN</td>\n",
       "      <td>Europe</td>\n",
       "      <td>Northern Europe</td>\n",
       "    </tr>\n",
       "  </tbody>\n",
       "</table>\n",
       "</div>"
      ],
      "text/plain": [
       "   Rank      Country  EF EPI Score                  Level  Year alpha-2  \\\n",
       "0     1       Norway         69.09  Very High Proficiency  2011      NO   \n",
       "1     2  Netherlands         67.93  Very High Proficiency  2011      NL   \n",
       "2     3      Denmark         66.91  Very High Proficiency  2011      DK   \n",
       "3     4       Sweden         66.26  Very High Proficiency  2011      SE   \n",
       "4     5      Finland         65.38  Very High Proficiency  2011      FI   \n",
       "\n",
       "  alpha-3  region       sub-region  \n",
       "0     NOR  Europe  Northern Europe  \n",
       "1     NLD  Europe   Western Europe  \n",
       "2     DNK  Europe  Northern Europe  \n",
       "3     SWE  Europe  Northern Europe  \n",
       "4     FIN  Europe  Northern Europe  "
      ]
     },
     "execution_count": 96,
     "metadata": {},
     "output_type": "execute_result"
    }
   ],
   "source": [
    "ef_with_country_codes.head()"
   ]
  },
  {
   "cell_type": "code",
   "execution_count": 98,
   "metadata": {},
   "outputs": [],
   "source": [
    "ef_with_country_codes.to_csv(os.path.join(cwd,\"ef_education_index.csv\"),index=False, header=[\n",
    "    'country',\n",
    "    'e_visa_or_visa_on_arrival',\n",
    "    'eta',\n",
    "    'visa_required',\n",
    "    'visa_not_required'])"
   ]
  },
  {
   "cell_type": "code",
   "execution_count": null,
   "metadata": {},
   "outputs": [],
   "source": []
  }
 ],
 "metadata": {
  "kernelspec": {
   "display_name": "Python 3 (ipykernel)",
   "language": "python",
   "name": "python3"
  },
  "language_info": {
   "codemirror_mode": {
    "name": "ipython",
    "version": 3
   },
   "file_extension": ".py",
   "mimetype": "text/x-python",
   "name": "python",
   "nbconvert_exporter": "python",
   "pygments_lexer": "ipython3",
   "version": "3.9.6"
  }
 },
 "nbformat": 4,
 "nbformat_minor": 4
}
